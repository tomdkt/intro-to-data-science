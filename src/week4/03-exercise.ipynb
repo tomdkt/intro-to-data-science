{
 "cells": [
  {
   "metadata": {},
   "cell_type": "markdown",
   "source": "### 1 - Import the Pandas, Numpy, Seaborn, Matplotlib, and Sweetviz libraries.",
   "id": "7f003f713b5eb3f0"
  },
  {
   "metadata": {},
   "cell_type": "markdown",
   "source": "### 2 - Import the data from a CSV file containing information about Marvel movies, available at: https://www.kaggle.com/rachit239/mcu-complete-dataset.",
   "id": "a10cbc810ed1c94"
  },
  {
   "metadata": {},
   "cell_type": "markdown",
   "source": "### 3 - Using the ydata_profiling or Sweetviz library, find the most frequent budget value in the Marvel movies dataset and state the percentage of times this budget was used.",
   "id": "c51b6c3711b2b0b6"
  },
  {
   "metadata": {},
   "cell_type": "markdown",
   "source": "### 4 - Using a Pearson correlation on the Marvel dataset, identify the variables with the highest positive correlation.",
   "id": "68dc7aef904f6bfb"
  },
  {
   "metadata": {},
   "cell_type": "markdown",
   "source": "### 5 - Go to the Brazilian Open Data Portal and download the CSV file \"Relação de Empreendimentos de Geração\" (https://dados.gov.br/dataset/relacao-de-empreendimentos-de-geracao). State the license assigned to this data.",
   "id": "f8f3bda1c5514d03"
  },
  {
   "metadata": {},
   "cell_type": "markdown",
   "source": "### 6 - Import only the first 500 rows of the downloaded CSV file. Note that since this file is from Brazil, you will need to use the encoding='iso-8859-1' parameter in the Pandas read_csv function.",
   "id": "759330f48980fef4"
  },
  {
   "metadata": {},
   "cell_type": "markdown",
   "source": "### 7 - From the \"Empreendimentos de Geração\" data, identify the attribute with the most null values and remove it.",
   "id": "26ff305bbd1e5b70"
  },
  {
   "metadata": {},
   "cell_type": "markdown",
   "source": "### 8 - From the \"Empreendimentos de Geração\" data, identify the attribute with the fewest null values and remove the rows where this attribute is null.",
   "id": "1be0c7db05181d4d"
  },
  {
   "metadata": {},
   "cell_type": "markdown",
   "source": "### 9 - From the \"Empreendimentos de Geração\" data, create a new column named \"mdaPotenciaOutorgadaMW\" based on the \"mdaPotenciaOutorgadakW\" column. Note that the new column is in Megawatts and the original is in Kilowatts.",
   "id": "826fe030b18162f"
  },
  {
   "metadata": {},
   "cell_type": "markdown",
   "source": "### 10 - From the \"Empreendimentos de Geração\" data, in the \"datOperação\" column, keep only the date, removing the time information from the values.",
   "id": "d868913320a63fc2"
  },
  {
   "metadata": {},
   "cell_type": "markdown",
   "source": "### 11 - From the \"Empreendimentos de Geração\" data, create a new column based on \"sigTipoGeracao\" where the categorical (qualitative) values are replaced with numerical ones.",
   "id": "5e68d043df07726a"
  }
 ],
 "metadata": {
  "kernelspec": {
   "display_name": "Python 3",
   "language": "python",
   "name": "python3"
  },
  "language_info": {
   "codemirror_mode": {
    "name": "ipython",
    "version": 2
   },
   "file_extension": ".py",
   "mimetype": "text/x-python",
   "name": "python",
   "nbconvert_exporter": "python",
   "pygments_lexer": "ipython2",
   "version": "2.7.6"
  }
 },
 "nbformat": 4,
 "nbformat_minor": 5
}
