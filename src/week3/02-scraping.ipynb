{
 "cells": [
  {
   "cell_type": "code",
   "id": "initial_id",
   "metadata": {
    "collapsed": true,
    "ExecuteTime": {
     "end_time": "2025-10-06T17:07:23.271059Z",
     "start_time": "2025-10-06T17:07:23.263364Z"
    }
   },
   "source": [
    "# Import libraries for web scraping and data manipulation\n",
    "import requests\n",
    "from bs4 import BeautifulSoup\n",
    "import pandas as pd"
   ],
   "outputs": [],
   "execution_count": 18
  },
  {
   "metadata": {
    "ExecuteTime": {
     "end_time": "2025-10-06T17:07:24.469162Z",
     "start_time": "2025-10-06T17:07:23.301389Z"
    }
   },
   "cell_type": "code",
   "source": [
    "# Fetch HTML content from the website\n",
    "html = requests.get(\"https://statisticstimes.com/tech/top-computer-languages.php\").content\n",
    "# Parse HTML content with BeautifulSoup\n",
    "soup = BeautifulSoup(html, 'html.parser')"
   ],
   "id": "9369489b09a0a843",
   "outputs": [],
   "execution_count": 19
  },
  {
   "metadata": {
    "ExecuteTime": {
     "end_time": "2025-10-06T17:07:24.574834Z",
     "start_time": "2025-10-06T17:07:24.560832Z"
    }
   },
   "cell_type": "code",
   "source": [
    "# Find the first paragraph element\n",
    "first_paragraph = soup.find('p')\n",
    "first_paragraph"
   ],
   "id": "5e301de2355d0b6b",
   "outputs": [
    {
     "data": {
      "text/plain": [
       "<p>Python is the top programming language in the TIOBE and PYPL Index. Python has taken a lead of over 12% from C++\n",
       "in TIOBE. In PYPL, a gap is much wider as top-ranked Python is ahead by over 15% from 2nd-ranked Java.</p>"
      ]
     },
     "execution_count": 20,
     "metadata": {},
     "output_type": "execute_result"
    }
   ],
   "execution_count": 20
  },
  {
   "metadata": {
    "ExecuteTime": {
     "end_time": "2025-10-06T17:07:24.643600Z",
     "start_time": "2025-10-06T17:07:24.635647Z"
    }
   },
   "cell_type": "code",
   "source": [
    "# Extract text content from the first paragraph\n",
    "first_paragraph.text"
   ],
   "id": "5990c861e5703a23",
   "outputs": [
    {
     "data": {
      "text/plain": [
       "'Python is the top programming language in the TIOBE and PYPL Index. Python has taken a lead of over 12% from C++\\nin TIOBE. In PYPL, a gap is much wider as top-ranked Python is ahead by over 15% from 2nd-ranked Java.'"
      ]
     },
     "execution_count": 21,
     "metadata": {},
     "output_type": "execute_result"
    }
   ],
   "execution_count": 21
  },
  {
   "metadata": {
    "ExecuteTime": {
     "end_time": "2025-10-06T17:07:24.692635Z",
     "start_time": "2025-10-06T17:07:24.689893Z"
    }
   },
   "cell_type": "code",
   "source": [
    "# Find all paragraph elements\n",
    "all_paragraphs = soup.find_all('p')\n",
    "all_paragraphs"
   ],
   "id": "5c08341bea4c86",
   "outputs": [
    {
     "data": {
      "text/plain": [
       "[<p>Python is the top programming language in the TIOBE and PYPL Index. Python has taken a lead of over 12% from C++\n",
       " in TIOBE. In PYPL, a gap is much wider as top-ranked Python is ahead by over 15% from 2nd-ranked Java.</p>,\n",
       " <p><b>TIOBE:</b> Python, C++, Java, and C are way ahead of others in the TIOBE Index. C++,\n",
       " Java and C are very close to each other at the 2nd, 3rd, and 4th numbers. C++ and C# have had positive trends in the past five years. \n",
       " These three have had negative trends in the past five years: Java, C, and PHP. PHP hit its lowest position (17th) ever in \n",
       " the TIOBE index in April 2024. PHP was in 3rd position in Mar 2010 and is now in 13th.\n",
       " C is now in its lowest 4th position. The rating\n",
       " of Java has declined from 26.49% in June 2001 to 7.87% in Jan 2024.</p>,\n",
       " <p><b>PYPL:</b> According  to PYPL, which publishes separate rankings for five countries, Python is the top language in \n",
       " all five countries (US, India, Germany, United Kingdom, France). Python has taken a huge lead in these five \n",
       " countries over the 2nd number of Java, and its shares are above 50% in Germany, France, and the United Kingdom.\n",
       " Python and Java account for almost 45% of the global search. \n",
       " C/C++ is within the top five in four countries. JavaScript and C# are within the top five in three countries.</p>,\n",
       " <p>PHP is the biggest loser in recent years in PYPL. Its share was over 20% in 2008; now, this figure is only 3.74% in 2025. \n",
       " Java is declining too, but not as fast as PHP. Java's contribution was over 31% in 2008, and still, it holds 14.89%. In \n",
       " 2004-2009, 50% of the search was for either Java or PHP.</p>,\n",
       " <p><b>TIOBE Index:</b> TIOBE ratings are calculated by counting hits of the most popular search engines. Twenty-five \n",
       " search engines are used to calculate the TIOBE index. The TIOBE Programming Community index is an indicator of the\n",
       "  popularity of programming languages. The index started in the year 2001 and updated once a month.</p>,\n",
       " <p><b>PYPL Index:</b> The PYPL PopularitY of Programming Language Index is created by analyzing how often language\n",
       "  tutorials are searched on Google. The index is updated once a month.</p>]"
      ]
     },
     "execution_count": 22,
     "metadata": {},
     "output_type": "execute_result"
    }
   ],
   "execution_count": 22
  },
  {
   "metadata": {
    "ExecuteTime": {
     "end_time": "2025-10-06T17:07:24.750635Z",
     "start_time": "2025-10-06T17:07:24.744113Z"
    }
   },
   "cell_type": "code",
   "source": [
    "# Access the third paragraph (index 2)\n",
    "all_paragraphs[2]"
   ],
   "id": "c4c4fb3c90bce4a6",
   "outputs": [
    {
     "data": {
      "text/plain": [
       "<p><b>PYPL:</b> According  to PYPL, which publishes separate rankings for five countries, Python is the top language in \n",
       "all five countries (US, India, Germany, United Kingdom, France). Python has taken a huge lead in these five \n",
       "countries over the 2nd number of Java, and its shares are above 50% in Germany, France, and the United Kingdom.\n",
       "Python and Java account for almost 45% of the global search. \n",
       "C/C++ is within the top five in four countries. JavaScript and C# are within the top five in three countries.</p>"
      ]
     },
     "execution_count": 23,
     "metadata": {},
     "output_type": "execute_result"
    }
   ],
   "execution_count": 23
  },
  {
   "metadata": {
    "ExecuteTime": {
     "end_time": "2025-10-06T17:07:24.881586Z",
     "start_time": "2025-10-06T17:07:24.875714Z"
    }
   },
   "cell_type": "code",
   "source": [
    "# Find all anchor (link) elements\n",
    "all_links = soup.find_all('a')\n",
    "all_links"
   ],
   "id": "cf80bf1fabd09754",
   "outputs": [
    {
     "data": {
      "text/plain": [
       "[<a href=\"/index.php\">\n",
       " <img alt=\"statisticstimes\" height=\"90\" src=\"/statistics.png\" width=\"200\"/>\n",
       " </a>,\n",
       " <a href=\"/index.php\">World</a>,\n",
       " <a href=\"/india.php\">India</a>,\n",
       " <a href=\"/economy/world-statistics.php\">World</a>,\n",
       " <a href=\"/economy/country-statistics.php\">Country</a>,\n",
       " <a href=\"/economy/india-statistics.php\">India</a>,\n",
       " <a href=\"/demographics/world-statistics.php\">World</a>,\n",
       " <a href=\"/demographics/country-statistics.php\">Country</a>,\n",
       " <a href=\"/demographics/india-statistics.php\">India</a>,\n",
       " <a href=\"/politics/india-statistics.php\">India</a>,\n",
       " <a href=\"/geography/world-statistics.php\">World</a>,\n",
       " <a href=\"/geography/india-statistics.php\">India</a>,\n",
       " <a href=\"/tech/world-statistics.php\">Tech</a>,\n",
       " <a href=\"/sports/world-statistics.php\">World</a>,\n",
       " <a href=\"/sports/india-statistics.php\">India</a>,\n",
       " <a href=\"/ranking/world-statistics.php\">Ranking</a>,\n",
       " <a href=\"/article/world-statistics.php\">World</a>,\n",
       " <a href=\"/article/india-statistics.php\">India</a>,\n",
       " <a href=\"https://www.tiobe.com/tiobe-index/\" target=\"_blank\">TIOBE Index</a>,\n",
       " <a href=\"http://pypl.github.io/PYPL.html\" target=\"_blank\">PYPL PopularitY of Programming Language Index</a>,\n",
       " <a class=\"ls\" href=\"/sports/ipl/ipl-2025.php\">\n",
       "        IPL 2025</a>,\n",
       " <a class=\"ls\" href=\"/economy/continents-by-gdp-per-capita.php\">\n",
       "        List of continents by gdp per capita</a>,\n",
       " <a class=\"ls\" href=\"/economy/largest-economies-in-the-world.php\">\n",
       "        Top 10 largest economies by GDP</a>,\n",
       " <a href=\"/about.php\" style=\"text-decoration: none;\"> About US</a>,\n",
       " <a href=\"/termsofuse.php\" style=\"text-decoration: none;\"> Terms Of Use </a>,\n",
       " <a href=\"/privacy.php\" style=\"text-decoration: none;\"> Privacy Policy </a>,\n",
       " <a href=\"/contact.php\" style=\"text-decoration: none;\"> Contact Us </a>]"
      ]
     },
     "execution_count": 24,
     "metadata": {},
     "output_type": "execute_result"
    }
   ],
   "execution_count": 24
  },
  {
   "metadata": {
    "ExecuteTime": {
     "end_time": "2025-10-06T17:07:24.904129Z",
     "start_time": "2025-10-06T17:07:24.898355Z"
    }
   },
   "cell_type": "code",
   "source": [
    "# Find the table with programming languages data\n",
    "table = soup.find('table', {'id': 'table_id1'}).find('tbody')\n",
    "table"
   ],
   "id": "31dfac3e85702f2c",
   "outputs": [
    {
     "data": {
      "text/plain": [
       "<tbody>\n",
       "<tr><td class=\"data1\">1</td><td class=\"data1\"></td><td class=\"name\">Python</td><td class=\"data1\"> 30.27 %</td><td class=\"data1\">+1.8 %</td></tr>\n",
       "<tr><td class=\"data1\">2</td><td class=\"data1\"></td><td class=\"name\">Java</td><td class=\"data1\"> 14.89 %</td><td class=\"data1\">-0.9 %</td></tr>\n",
       "<tr><td class=\"data1\">3</td><td class=\"data1\"></td><td class=\"name\">JavaScript</td><td class=\"data1\"> 7.78 %</td><td class=\"data1\">-0.9 %</td></tr>\n",
       "<tr><td class=\"data1\">4</td><td class=\"data1\">↑</td><td class=\"name\">C/C++</td><td class=\"data1\"> 7.12 %</td><td class=\"data1\">+0.6 %</td></tr>\n",
       "<tr><td class=\"data1\">5</td><td class=\"data1\">↓</td><td class=\"name\">C#</td><td class=\"data1\"> 6.11 %</td><td class=\"data1\">-0.6 %</td></tr>\n",
       "<tr><td class=\"data1\">6</td><td class=\"data1\"></td><td class=\"name\">R</td><td class=\"data1\"> 4.54 %</td><td class=\"data1\">-0.1 %</td></tr>\n",
       "<tr><td class=\"data1\">7</td><td class=\"data1\"></td><td class=\"name\">PHP</td><td class=\"data1\"> 3.74 %</td><td class=\"data1\">-0.7 %</td></tr>\n",
       "<tr><td class=\"data1\">8</td><td class=\"data1\">↑↑</td><td class=\"name\">Rust</td><td class=\"data1\"> 3.14 %</td><td class=\"data1\">+0.6 %</td></tr>\n",
       "<tr><td class=\"data1\">9</td><td class=\"data1\">↓</td><td class=\"name\">TypeScript</td><td class=\"data1\"> 2.78 %</td><td class=\"data1\">-0.1 %</td></tr>\n",
       "<tr><td class=\"data1\">10</td><td class=\"data1\">↑</td><td class=\"name\">Objective-C</td><td class=\"data1\"> 2.74 %</td><td class=\"data1\">+0.3 %</td></tr>\n",
       "<tr><td class=\"data1\">11</td><td class=\"data1\">↓↓</td><td class=\"name\">Swift</td><td class=\"data1\"> 2.44 %</td><td class=\"data1\">-0.3 %</td></tr>\n",
       "<tr><td class=\"data1\">12</td><td class=\"data1\"></td><td class=\"name\">Go</td><td class=\"data1\"> 2.06 %</td><td class=\"data1\">-0.2 %</td></tr>\n",
       "<tr><td class=\"data1\">13</td><td class=\"data1\"></td><td class=\"name\">Kotlin</td><td class=\"data1\"> 1.9 %</td><td class=\"data1\">+0.0 %</td></tr>\n",
       "<tr><td class=\"data1\">14</td><td class=\"data1\"></td><td class=\"name\">Matlab</td><td class=\"data1\"> 1.68 %</td><td class=\"data1\">+0.1 %</td></tr>\n",
       "<tr><td class=\"data1\">15</td><td class=\"data1\">↑</td><td class=\"name\">Ada</td><td class=\"data1\"> 1.33 %</td><td class=\"data1\">+0.3 %</td></tr>\n",
       "<tr><td class=\"data1\">16</td><td class=\"data1\">↓</td><td class=\"name\">Dart</td><td class=\"data1\"> 1.03 %</td><td class=\"data1\">-0.0 %</td></tr>\n",
       "<tr><td class=\"data1\">17</td><td class=\"data1\"></td><td class=\"name\">Ruby</td><td class=\"data1\"> 1.01 %</td><td class=\"data1\">+0.0 %</td></tr>\n",
       "<tr><td class=\"data1\">18</td><td class=\"data1\">↑↑</td><td class=\"name\">Lua</td><td class=\"data1\"> 0.96 %</td><td class=\"data1\">+0.2 %</td></tr>\n",
       "<tr><td class=\"data1\">19</td><td class=\"data1\">↓</td><td class=\"name\">Powershell</td><td class=\"data1\"> 0.95 %</td><td class=\"data1\">+0.0 %</td></tr>\n",
       "<tr><td class=\"data1\">20</td><td class=\"data1\">↓</td><td class=\"name\">VBA</td><td class=\"data1\"> 0.9 %</td><td class=\"data1\">+0.0 %</td></tr>\n",
       "<tr><td class=\"data1\">21</td><td class=\"data1\"></td><td class=\"name\">Scala</td><td class=\"data1\"> 0.59 %</td><td class=\"data1\">-0.0 %</td></tr>\n",
       "<tr><td class=\"data1\">22</td><td class=\"data1\"></td><td class=\"name\">Abap</td><td class=\"data1\"> 0.51 %</td><td class=\"data1\">-0.0 %</td></tr>\n",
       "<tr><td class=\"data1\">23</td><td class=\"data1\"></td><td class=\"name\">Visual Basic</td><td class=\"data1\"> 0.43 %</td><td class=\"data1\">-0.1 %</td></tr>\n",
       "<tr><td class=\"data1\">24</td><td class=\"data1\"></td><td class=\"name\">Julia</td><td class=\"data1\"> 0.39 %</td><td class=\"data1\">+0.1 %</td></tr>\n",
       "<tr><td class=\"data1\">25</td><td class=\"data1\"></td><td class=\"name\">Groovy</td><td class=\"data1\"> 0.17 %</td><td class=\"data1\">-0.1 %</td></tr>\n",
       "<tr><td class=\"data1\">26</td><td class=\"data1\">↑↑↑↑</td><td class=\"name\">Zig</td><td class=\"data1\"> 0.17 %</td><td class=\"data1\">+0.1 %</td></tr>\n",
       "<tr><td class=\"data1\">27</td><td class=\"data1\">↓</td><td class=\"name\">Haskell</td><td class=\"data1\"> 0.15 %</td><td class=\"data1\">-0.0 %</td></tr>\n",
       "<tr><td class=\"data1\">28</td><td class=\"data1\"></td><td class=\"name\">Cobol</td><td class=\"data1\"> 0.11 %</td><td class=\"data1\">-0.0 %</td></tr>\n",
       "<tr><td class=\"data1\">29</td><td class=\"data1\">↓↓</td><td class=\"name\">Perl</td><td class=\"data1\"> 0.07 %</td><td class=\"data1\">-0.1 %</td></tr>\n",
       "<tr><td class=\"data1\">30</td><td class=\"data1\">↓</td><td class=\"name\">Delphi/Pascal</td><td class=\"data1\"> 0.03 %</td><td class=\"data1\">-0.1 %</td></tr>\n",
       "</tbody>"
      ]
     },
     "execution_count": 25,
     "metadata": {},
     "output_type": "execute_result"
    }
   ],
   "execution_count": 25
  },
  {
   "metadata": {
    "ExecuteTime": {
     "end_time": "2025-10-06T17:07:24.967215Z",
     "start_time": "2025-10-06T17:07:24.957730Z"
    }
   },
   "cell_type": "code",
   "source": [
    "rows=table.find_all('tr')\n",
    "for row in rows:\n",
    "    data=row.find_all('td')\n",
    "    print(data[0].text)\n",
    "    print(data[2].text)\n",
    "    print(data[3].text)\n",
    "    print('-----')"
   ],
   "id": "eb70ca13b557d958",
   "outputs": [
    {
     "name": "stdout",
     "output_type": "stream",
     "text": [
      "1\n",
      "Python\n",
      " 30.27 %\n",
      "-----\n",
      "2\n",
      "Java\n",
      " 14.89 %\n",
      "-----\n",
      "3\n",
      "JavaScript\n",
      " 7.78 %\n",
      "-----\n",
      "4\n",
      "C/C++\n",
      " 7.12 %\n",
      "-----\n",
      "5\n",
      "C#\n",
      " 6.11 %\n",
      "-----\n",
      "6\n",
      "R\n",
      " 4.54 %\n",
      "-----\n",
      "7\n",
      "PHP\n",
      " 3.74 %\n",
      "-----\n",
      "8\n",
      "Rust\n",
      " 3.14 %\n",
      "-----\n",
      "9\n",
      "TypeScript\n",
      " 2.78 %\n",
      "-----\n",
      "10\n",
      "Objective-C\n",
      " 2.74 %\n",
      "-----\n",
      "11\n",
      "Swift\n",
      " 2.44 %\n",
      "-----\n",
      "12\n",
      "Go\n",
      " 2.06 %\n",
      "-----\n",
      "13\n",
      "Kotlin\n",
      " 1.9 %\n",
      "-----\n",
      "14\n",
      "Matlab\n",
      " 1.68 %\n",
      "-----\n",
      "15\n",
      "Ada\n",
      " 1.33 %\n",
      "-----\n",
      "16\n",
      "Dart\n",
      " 1.03 %\n",
      "-----\n",
      "17\n",
      "Ruby\n",
      " 1.01 %\n",
      "-----\n",
      "18\n",
      "Lua\n",
      " 0.96 %\n",
      "-----\n",
      "19\n",
      "Powershell\n",
      " 0.95 %\n",
      "-----\n",
      "20\n",
      "VBA\n",
      " 0.9 %\n",
      "-----\n",
      "21\n",
      "Scala\n",
      " 0.59 %\n",
      "-----\n",
      "22\n",
      "Abap\n",
      " 0.51 %\n",
      "-----\n",
      "23\n",
      "Visual Basic\n",
      " 0.43 %\n",
      "-----\n",
      "24\n",
      "Julia\n",
      " 0.39 %\n",
      "-----\n",
      "25\n",
      "Groovy\n",
      " 0.17 %\n",
      "-----\n",
      "26\n",
      "Zig\n",
      " 0.17 %\n",
      "-----\n",
      "27\n",
      "Haskell\n",
      " 0.15 %\n",
      "-----\n",
      "28\n",
      "Cobol\n",
      " 0.11 %\n",
      "-----\n",
      "29\n",
      "Perl\n",
      " 0.07 %\n",
      "-----\n",
      "30\n",
      "Delphi/Pascal\n",
      " 0.03 %\n",
      "-----\n"
     ]
    }
   ],
   "execution_count": 26
  },
  {
   "metadata": {
    "ExecuteTime": {
     "end_time": "2025-10-06T17:07:25.030806Z",
     "start_time": "2025-10-06T17:07:25.020130Z"
    }
   },
   "cell_type": "code",
   "source": [
    "language=[]\n",
    "points=[]\n",
    "for row in rows:\n",
    "    data=row.find_all('td')\n",
    "    language.append(data[2].text)\n",
    "    points.append(data[3].text)"
   ],
   "id": "55a991144a9d3b45",
   "outputs": [],
   "execution_count": 27
  },
  {
   "metadata": {
    "ExecuteTime": {
     "end_time": "2025-10-06T17:07:25.090265Z",
     "start_time": "2025-10-06T17:07:25.084943Z"
    }
   },
   "cell_type": "code",
   "source": [
    "print(language)\n",
    "print(points)"
   ],
   "id": "a2cf46892b2ce12e",
   "outputs": [
    {
     "name": "stdout",
     "output_type": "stream",
     "text": [
      "['Python', 'Java', 'JavaScript', 'C/C++', 'C#', 'R', 'PHP', 'Rust', 'TypeScript', 'Objective-C', 'Swift', 'Go', 'Kotlin', 'Matlab', 'Ada', 'Dart', 'Ruby', 'Lua', 'Powershell', 'VBA', 'Scala', 'Abap', 'Visual Basic', 'Julia', 'Groovy', 'Zig', 'Haskell', 'Cobol', 'Perl', 'Delphi/Pascal']\n",
      "[' 30.27 %', ' 14.89 %', ' 7.78 %', ' 7.12 %', ' 6.11 %', ' 4.54 %', ' 3.74 %', ' 3.14 %', ' 2.78 %', ' 2.74 %', ' 2.44 %', ' 2.06 %', ' 1.9 %', ' 1.68 %', ' 1.33 %', ' 1.03 %', ' 1.01 %', ' 0.96 %', ' 0.95 %', ' 0.9 %', ' 0.59 %', ' 0.51 %', ' 0.43 %', ' 0.39 %', ' 0.17 %', ' 0.17 %', ' 0.15 %', ' 0.11 %', ' 0.07 %', ' 0.03 %']\n"
     ]
    }
   ],
   "execution_count": 28
  },
  {
   "metadata": {
    "ExecuteTime": {
     "end_time": "2025-10-06T17:07:25.172983Z",
     "start_time": "2025-10-06T17:07:25.151871Z"
    }
   },
   "cell_type": "code",
   "source": [
    "data=pd.DataFrame(language, columns=['Language'])\n",
    "data['Points']=points\n",
    "data"
   ],
   "id": "a922457866a35452",
   "outputs": [
    {
     "data": {
      "text/plain": [
       "         Language    Points\n",
       "0          Python   30.27 %\n",
       "1            Java   14.89 %\n",
       "2      JavaScript    7.78 %\n",
       "3           C/C++    7.12 %\n",
       "4              C#    6.11 %\n",
       "5               R    4.54 %\n",
       "6             PHP    3.74 %\n",
       "7            Rust    3.14 %\n",
       "8      TypeScript    2.78 %\n",
       "9     Objective-C    2.74 %\n",
       "10          Swift    2.44 %\n",
       "11             Go    2.06 %\n",
       "12         Kotlin     1.9 %\n",
       "13         Matlab    1.68 %\n",
       "14            Ada    1.33 %\n",
       "15           Dart    1.03 %\n",
       "16           Ruby    1.01 %\n",
       "17            Lua    0.96 %\n",
       "18     Powershell    0.95 %\n",
       "19            VBA     0.9 %\n",
       "20          Scala    0.59 %\n",
       "21           Abap    0.51 %\n",
       "22   Visual Basic    0.43 %\n",
       "23          Julia    0.39 %\n",
       "24         Groovy    0.17 %\n",
       "25            Zig    0.17 %\n",
       "26        Haskell    0.15 %\n",
       "27          Cobol    0.11 %\n",
       "28           Perl    0.07 %\n",
       "29  Delphi/Pascal    0.03 %"
      ],
      "text/html": [
       "<div>\n",
       "<style scoped>\n",
       "    .dataframe tbody tr th:only-of-type {\n",
       "        vertical-align: middle;\n",
       "    }\n",
       "\n",
       "    .dataframe tbody tr th {\n",
       "        vertical-align: top;\n",
       "    }\n",
       "\n",
       "    .dataframe thead th {\n",
       "        text-align: right;\n",
       "    }\n",
       "</style>\n",
       "<table border=\"1\" class=\"dataframe\">\n",
       "  <thead>\n",
       "    <tr style=\"text-align: right;\">\n",
       "      <th></th>\n",
       "      <th>Language</th>\n",
       "      <th>Points</th>\n",
       "    </tr>\n",
       "  </thead>\n",
       "  <tbody>\n",
       "    <tr>\n",
       "      <th>0</th>\n",
       "      <td>Python</td>\n",
       "      <td>30.27 %</td>\n",
       "    </tr>\n",
       "    <tr>\n",
       "      <th>1</th>\n",
       "      <td>Java</td>\n",
       "      <td>14.89 %</td>\n",
       "    </tr>\n",
       "    <tr>\n",
       "      <th>2</th>\n",
       "      <td>JavaScript</td>\n",
       "      <td>7.78 %</td>\n",
       "    </tr>\n",
       "    <tr>\n",
       "      <th>3</th>\n",
       "      <td>C/C++</td>\n",
       "      <td>7.12 %</td>\n",
       "    </tr>\n",
       "    <tr>\n",
       "      <th>4</th>\n",
       "      <td>C#</td>\n",
       "      <td>6.11 %</td>\n",
       "    </tr>\n",
       "    <tr>\n",
       "      <th>5</th>\n",
       "      <td>R</td>\n",
       "      <td>4.54 %</td>\n",
       "    </tr>\n",
       "    <tr>\n",
       "      <th>6</th>\n",
       "      <td>PHP</td>\n",
       "      <td>3.74 %</td>\n",
       "    </tr>\n",
       "    <tr>\n",
       "      <th>7</th>\n",
       "      <td>Rust</td>\n",
       "      <td>3.14 %</td>\n",
       "    </tr>\n",
       "    <tr>\n",
       "      <th>8</th>\n",
       "      <td>TypeScript</td>\n",
       "      <td>2.78 %</td>\n",
       "    </tr>\n",
       "    <tr>\n",
       "      <th>9</th>\n",
       "      <td>Objective-C</td>\n",
       "      <td>2.74 %</td>\n",
       "    </tr>\n",
       "    <tr>\n",
       "      <th>10</th>\n",
       "      <td>Swift</td>\n",
       "      <td>2.44 %</td>\n",
       "    </tr>\n",
       "    <tr>\n",
       "      <th>11</th>\n",
       "      <td>Go</td>\n",
       "      <td>2.06 %</td>\n",
       "    </tr>\n",
       "    <tr>\n",
       "      <th>12</th>\n",
       "      <td>Kotlin</td>\n",
       "      <td>1.9 %</td>\n",
       "    </tr>\n",
       "    <tr>\n",
       "      <th>13</th>\n",
       "      <td>Matlab</td>\n",
       "      <td>1.68 %</td>\n",
       "    </tr>\n",
       "    <tr>\n",
       "      <th>14</th>\n",
       "      <td>Ada</td>\n",
       "      <td>1.33 %</td>\n",
       "    </tr>\n",
       "    <tr>\n",
       "      <th>15</th>\n",
       "      <td>Dart</td>\n",
       "      <td>1.03 %</td>\n",
       "    </tr>\n",
       "    <tr>\n",
       "      <th>16</th>\n",
       "      <td>Ruby</td>\n",
       "      <td>1.01 %</td>\n",
       "    </tr>\n",
       "    <tr>\n",
       "      <th>17</th>\n",
       "      <td>Lua</td>\n",
       "      <td>0.96 %</td>\n",
       "    </tr>\n",
       "    <tr>\n",
       "      <th>18</th>\n",
       "      <td>Powershell</td>\n",
       "      <td>0.95 %</td>\n",
       "    </tr>\n",
       "    <tr>\n",
       "      <th>19</th>\n",
       "      <td>VBA</td>\n",
       "      <td>0.9 %</td>\n",
       "    </tr>\n",
       "    <tr>\n",
       "      <th>20</th>\n",
       "      <td>Scala</td>\n",
       "      <td>0.59 %</td>\n",
       "    </tr>\n",
       "    <tr>\n",
       "      <th>21</th>\n",
       "      <td>Abap</td>\n",
       "      <td>0.51 %</td>\n",
       "    </tr>\n",
       "    <tr>\n",
       "      <th>22</th>\n",
       "      <td>Visual Basic</td>\n",
       "      <td>0.43 %</td>\n",
       "    </tr>\n",
       "    <tr>\n",
       "      <th>23</th>\n",
       "      <td>Julia</td>\n",
       "      <td>0.39 %</td>\n",
       "    </tr>\n",
       "    <tr>\n",
       "      <th>24</th>\n",
       "      <td>Groovy</td>\n",
       "      <td>0.17 %</td>\n",
       "    </tr>\n",
       "    <tr>\n",
       "      <th>25</th>\n",
       "      <td>Zig</td>\n",
       "      <td>0.17 %</td>\n",
       "    </tr>\n",
       "    <tr>\n",
       "      <th>26</th>\n",
       "      <td>Haskell</td>\n",
       "      <td>0.15 %</td>\n",
       "    </tr>\n",
       "    <tr>\n",
       "      <th>27</th>\n",
       "      <td>Cobol</td>\n",
       "      <td>0.11 %</td>\n",
       "    </tr>\n",
       "    <tr>\n",
       "      <th>28</th>\n",
       "      <td>Perl</td>\n",
       "      <td>0.07 %</td>\n",
       "    </tr>\n",
       "    <tr>\n",
       "      <th>29</th>\n",
       "      <td>Delphi/Pascal</td>\n",
       "      <td>0.03 %</td>\n",
       "    </tr>\n",
       "  </tbody>\n",
       "</table>\n",
       "</div>"
      ]
     },
     "execution_count": 29,
     "metadata": {},
     "output_type": "execute_result"
    }
   ],
   "execution_count": 29
  }
 ],
 "metadata": {
  "kernelspec": {
   "display_name": "Python 3",
   "language": "python",
   "name": "python3"
  },
  "language_info": {
   "codemirror_mode": {
    "name": "ipython",
    "version": 2
   },
   "file_extension": ".py",
   "mimetype": "text/x-python",
   "name": "python",
   "nbconvert_exporter": "python",
   "pygments_lexer": "ipython2",
   "version": "2.7.6"
  }
 },
 "nbformat": 4,
 "nbformat_minor": 5
}
