{
 "cells": [
  {
   "cell_type": "code",
   "execution_count": null,
   "id": "initial_id",
   "metadata": {
    "collapsed": true
   },
   "outputs": [],
   "source": [
    "import numpy as np\n",
    "import pandas as pd\n",
    "from bs4 import BeautifulSoup\n",
    "import matplotlib.pyplot as plt\n",
    "import seaborn as sns\n",
    "import requests\n",
    "import json"
   ]
  },
  {
   "metadata": {},
   "cell_type": "markdown",
   "source": "### Access the website https://db-engines.com/en/ranking, perform web scraping, and generate a DataFrame with the list of ranked databases.",
   "id": "362075889336c1ce"
  },
  {
   "metadata": {},
   "cell_type": "markdown",
   "source": "### Using Seaborn, create a bar chart showing the database names and their scores for the current month.",
   "id": "d294028bbe533c9f"
  },
  {
   "metadata": {},
   "cell_type": "markdown",
   "source": "### Create a new DataFrame with only the top 10 databases. Add a column Share showing each database's percentage of relevance relative to the top 10 total scores. Display the name and percentage of the top-ranked database.",
   "id": "5b6d9b36b67db485"
  },
  {
   "metadata": {},
   "cell_type": "markdown",
   "source": "### Using Matplotlib, create a chart showing the Share of each database among the top 10.",
   "id": "5c5734890d9f4d9b"
  },
  {
   "metadata": {},
   "cell_type": "markdown",
   "source": "### Using the full DataFrame, create a new Share column showing the percentage relevance of each database relative to all others.",
   "id": "6b0ca023ac18de7b"
  },
  {
   "metadata": {},
   "cell_type": "markdown",
   "source": "### Save the full DataFrame as a CSV file named db-ranking.csv.",
   "id": "1bbac892dfbf090e"
  },
  {
   "metadata": {},
   "cell_type": "markdown",
   "source": "### Use the Brazilian Central Bank’s API to get the USD exchange rate. Retrieve the selling rate for September 16, 2008, using JSON.",
   "id": "bd8c1fb5c5ef41d0"
  }
 ],
 "metadata": {
  "kernelspec": {
   "display_name": "Python 3",
   "language": "python",
   "name": "python3"
  },
  "language_info": {
   "codemirror_mode": {
    "name": "ipython",
    "version": 2
   },
   "file_extension": ".py",
   "mimetype": "text/x-python",
   "name": "python",
   "nbconvert_exporter": "python",
   "pygments_lexer": "ipython2",
   "version": "2.7.6"
  }
 },
 "nbformat": 4,
 "nbformat_minor": 5
}
