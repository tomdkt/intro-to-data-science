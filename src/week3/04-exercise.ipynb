{
 "cells": [
  {
   "cell_type": "code",
   "execution_count": null,
   "id": "initial_id",
   "metadata": {
    "collapsed": true
   },
   "outputs": [],
   "source": [
    "import numpy as np\n",
    "import pandas as pd\n",
    "from bs4 import BeautifulSoup\n",
    "import matplotlib.pyplot as plt\n",
    "import seaborn as sns\n",
    "import requests\n",
    "import json"
   ]
  },
  {
   "metadata": {},
   "cell_type": "markdown",
   "source": "### Access the website https://db-engines.com/en/ranking, perform web scraping, and generate a DataFrame with the list of ranked databases.",
   "id": "362075889336c1ce"
  },
  {
   "metadata": {
    "ExecuteTime": {
     "end_time": "2025-10-06T20:09:35.745922Z",
     "start_time": "2025-10-06T20:09:35.717137Z"
    }
   },
   "cell_type": "code",
   "source": [
    "import requests\n",
    "import pandas as pd\n",
    "from lxml import html\n",
    "\n",
    "url = \"https://db-engines.com/en/ranking\"\n",
    "response = requests.get(url)\n",
    "response.raise_for_status()\n",
    "tree = html.fromstring(response.text)\n",
    "rows = tree.cssselect('table.dbi tr')\n",
    "\n",
    "data = []\n",
    "for row in rows[3:]:\n",
    "    cols = row.xpath('./td | ./th')\n",
    "\n",
    "    if len(cols) >= 6:\n",
    "        rank = cols[0].text_content().strip().replace('.','')\n",
    "        name = cols[3].text_content().strip()[0:12]\n",
    "        score = cols[5].text_content().strip()\n",
    "        data.append([rank, name, score])\n",
    "df = pd.DataFrame(data, columns=[\"Rank\", \"Database\", \"Score\"])\n",
    "\n",
    "print(df.head())"
   ],
   "id": "120b584eb606c5a7",
   "outputs": [
    {
     "name": "stdout",
     "output_type": "stream",
     "text": [
      "  Rank      Database    Score\n",
      "0    1        Oracle  1212.77\n",
      "1    2         MySQL   879.66\n",
      "2    3  Microsoft SQ   715.05\n",
      "3    4    PostgreSQL   643.20\n",
      "4    5  MongoDB Deta   368.01\n"
     ]
    }
   ],
   "execution_count": 42
  },
  {
   "metadata": {},
   "cell_type": "markdown",
   "source": "### Using Seaborn, create a bar chart showing the database names and their scores for the current month.",
   "id": "d294028bbe533c9f"
  },
  {
   "metadata": {},
   "cell_type": "markdown",
   "source": "### Create a new DataFrame with only the top 10 databases. Add a column Share showing each database's percentage of relevance relative to the top 10 total scores. Display the name and percentage of the top-ranked database.",
   "id": "5b6d9b36b67db485"
  },
  {
   "metadata": {},
   "cell_type": "markdown",
   "source": "### Using Matplotlib, create a chart showing the Share of each database among the top 10.",
   "id": "5c5734890d9f4d9b"
  },
  {
   "metadata": {},
   "cell_type": "markdown",
   "source": "### Using the full DataFrame, create a new Share column showing the percentage relevance of each database relative to all others.",
   "id": "6b0ca023ac18de7b"
  },
  {
   "metadata": {},
   "cell_type": "markdown",
   "source": "### Save the full DataFrame as a CSV file named db-ranking.csv.",
   "id": "1bbac892dfbf090e"
  },
  {
   "metadata": {},
   "cell_type": "markdown",
   "source": "### Use the Brazilian Central Bank’s API to get the USD exchange rate. Retrieve the selling rate for September 16, 2008, using JSON.",
   "id": "bd8c1fb5c5ef41d0"
  }
 ],
 "metadata": {
  "kernelspec": {
   "display_name": "Python 3",
   "language": "python",
   "name": "python3"
  },
  "language_info": {
   "codemirror_mode": {
    "name": "ipython",
    "version": 2
   },
   "file_extension": ".py",
   "mimetype": "text/x-python",
   "name": "python",
   "nbconvert_exporter": "python",
   "pygments_lexer": "ipython2",
   "version": "2.7.6"
  }
 },
 "nbformat": 4,
 "nbformat_minor": 5
}
