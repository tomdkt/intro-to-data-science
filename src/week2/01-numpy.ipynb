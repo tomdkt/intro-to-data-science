{
 "cells": [
  {
   "cell_type": "code",
   "id": "initial_id",
   "metadata": {
    "collapsed": true,
    "ExecuteTime": {
     "end_time": "2025-10-03T19:18:13.938708Z",
     "start_time": "2025-10-03T19:18:13.859665Z"
    }
   },
   "source": "import numpy as np",
   "outputs": [],
   "execution_count": 2
  },
  {
   "metadata": {},
   "cell_type": "markdown",
   "source": "## random numbers",
   "id": "a6a4e5abc54e12a8"
  },
  {
   "metadata": {
    "ExecuteTime": {
     "end_time": "2025-10-03T19:21:15.738257Z",
     "start_time": "2025-10-03T19:21:15.735861Z"
    }
   },
   "cell_type": "code",
   "source": [
    "data = np.random.rand(2, 3)\n",
    "print(f\"Array:{data}\\nData type: {data.dtype}\\nShape: {data.shape}\\nDimension: {data.ndim} \")"
   ],
   "id": "e47cbe3fe523593e",
   "outputs": [
    {
     "name": "stdout",
     "output_type": "stream",
     "text": [
      "Array:[[0.24577788 0.94960629 0.15470961]\n",
      " [0.54586196 0.44837587 0.04670139]]\n",
      "Data type: float64\n",
      "Shape: (2, 3)\n",
      "Dimension: 2 \n"
     ]
    }
   ],
   "execution_count": 9
  },
  {
   "metadata": {
    "ExecuteTime": {
     "end_time": "2025-10-03T19:38:14.287137Z",
     "start_time": "2025-10-03T19:38:14.284691Z"
    }
   },
   "cell_type": "code",
   "source": [
    "arr=np.array([1,2,5,7.8,1.25])\n",
    "print(f\"Array:{arr}\\nData type: {arr.dtype}\\nShape: {arr.shape}\\nDimension: {arr.ndim} \")"
   ],
   "id": "af6e002710dc9fa6",
   "outputs": [
    {
     "name": "stdout",
     "output_type": "stream",
     "text": [
      "Array:[1.   2.   5.   7.8  1.25]\n",
      "Data type: float64\n",
      "Shape: (5,)\n",
      "Dimension: 1 \n"
     ]
    }
   ],
   "execution_count": 10
  },
  {
   "metadata": {
    "ExecuteTime": {
     "end_time": "2025-10-03T19:38:54.254340Z",
     "start_time": "2025-10-03T19:38:54.251916Z"
    }
   },
   "cell_type": "code",
   "source": [
    "arr=np.array([[1,2,3,4],[4,3,2,1]])\n",
    "print(f\"Array:{arr}\\nData type: {arr.dtype}\\nShape: {arr.shape}\\nDimension: {arr.ndim} \")"
   ],
   "id": "67bfff95f29a2986",
   "outputs": [
    {
     "name": "stdout",
     "output_type": "stream",
     "text": [
      "Array:[[1 2 3 4]\n",
      " [4 3 2 1]]\n",
      "Data type: int64\n",
      "Shape: (2, 4)\n",
      "Dimension: 2 \n"
     ]
    }
   ],
   "execution_count": 11
  },
  {
   "metadata": {
    "ExecuteTime": {
     "end_time": "2025-10-03T19:41:54.456113Z",
     "start_time": "2025-10-03T19:41:54.450033Z"
    }
   },
   "cell_type": "code",
   "source": [
    "print(f\"Zeros array (10 elements): {np.zeros(10)}\")\n",
    "print(f\"Zeros array (2x3): {np.zeros((2, 3))}\")\n",
    "print(f\"Ones array (5 elements): {np.ones(5)}\")\n",
    "print(f\"Ones array (2x3): {np.ones((2, 3))}\")\n",
    "print(f\"Full array (2x3, value=10): {np.full((2, 3), 10)}\")\n",
    "print(f\"Identity matrix (3x3): {np.eye(3)}\")\n",
    "print(f\"Range 0-9: {np.arange(10)}\")\n",
    "print(f\"Range 1-9: {np.arange(1, 10)}\")\n",
    "print(f\"Linspace 1-10 (10 points): {np.linspace(1, 10, 10)}\")\n",
    "print(f\"Linspace 1-10 (10 points, no endpoint): {np.linspace(1, 10, 10, endpoint=False)}\")\n",
    "print(f\"Random array (10 elements): {np.random.rand(10)}\")\n",
    "print(f\"Random array (2x3): {np.random.rand(2, 3)}\")\n",
    "print(f\"Random integers 1-9 (10 elements): {np.random.randint(1, 10, 10)}\")\n"
   ],
   "id": "870b66a0f52ef3e3",
   "outputs": [
    {
     "name": "stdout",
     "output_type": "stream",
     "text": [
      "Zeros array (10 elements): [0. 0. 0. 0. 0. 0. 0. 0. 0. 0.]\n",
      "Zeros array (2x3): [[0. 0. 0.]\n",
      " [0. 0. 0.]]\n",
      "Ones array (5 elements): [1. 1. 1. 1. 1.]\n",
      "Ones array (2x3): [[1. 1. 1.]\n",
      " [1. 1. 1.]]\n",
      "Full array (2x3, value=10): [[10 10 10]\n",
      " [10 10 10]]\n",
      "Identity matrix (3x3): [[1. 0. 0.]\n",
      " [0. 1. 0.]\n",
      " [0. 0. 1.]]\n",
      "Range 0-9: [0 1 2 3 4 5 6 7 8 9]\n",
      "Range 1-9: [1 2 3 4 5 6 7 8 9]\n",
      "Linspace 1-10 (10 points): [ 1.  2.  3.  4.  5.  6.  7.  8.  9. 10.]\n",
      "Linspace 1-10 (10 points, no endpoint): [1.  1.9 2.8 3.7 4.6 5.5 6.4 7.3 8.2 9.1]\n",
      "Random array (10 elements): [0.66249831 0.79865392 0.02232382 0.29047169 0.5106659  0.34017188\n",
      " 0.14360364 0.80074041 0.88694628 0.58250029]\n",
      "Random array (2x3): [[0.75566269 0.53539719 0.08684981]\n",
      " [0.71278039 0.42093692 0.23415283]]\n",
      "Random integers 1-9 (10 elements): [8 8 7 5 5 2 4 9 3 8]\n"
     ]
    }
   ],
   "execution_count": 16
  },
  {
   "metadata": {},
   "cell_type": "markdown",
   "source": "## convert type",
   "id": "dfc8018858b4d41"
  },
  {
   "metadata": {
    "ExecuteTime": {
     "end_time": "2025-10-03T19:44:10.010294Z",
     "start_time": "2025-10-03T19:44:10.007698Z"
    }
   },
   "cell_type": "code",
   "source": [
    "\n",
    "# Create an array with values from 0 to 18 (exclusive of 20), stepping by 2\n",
    "arr = np.arange(0, 20, 2)\n",
    "print(f\"Original array: {arr}\")\n",
    "print(f\"Data type: {arr.dtype}\")\n",
    "\n",
    "# Convert the integer array to float64 type\n",
    "arrFloat = arr.astype(np.float64)\n",
    "print(f\"Float array: {arrFloat}\")\n",
    "print(f\"Data type after conversion: {arrFloat.dtype}\")\n"
   ],
   "id": "ac548daf94d147e1",
   "outputs": [
    {
     "name": "stdout",
     "output_type": "stream",
     "text": [
      "Original array: [ 0  2  4  6  8 10 12 14 16 18]\n",
      "Data type: int64\n",
      "Float array: [ 0.  2.  4.  6.  8. 10. 12. 14. 16. 18.]\n",
      "Data type after conversion: float64\n"
     ]
    }
   ],
   "execution_count": 21
  },
  {
   "metadata": {},
   "cell_type": "markdown",
   "source": "## arithmetic with Arrays",
   "id": "c4a80dfb85f1b096"
  },
  {
   "metadata": {
    "ExecuteTime": {
     "end_time": "2025-10-03T19:55:48.808942Z",
     "start_time": "2025-10-03T19:55:48.805663Z"
    }
   },
   "cell_type": "code",
   "source": [
    "arr = np.array([[1, 2, 3], [4, 5, 6]]) + np.array([[1, 2, 3], [4, 5, 6]])\n",
    "print(f\"Sum of two arrays: {arr}\")\n",
    "\n",
    "# readonly\n",
    "print(f\"Element-wise multiplication of arrays: {arr*arr}\")\n",
    "print(f\"Element-wise subtraction of arrays: {arr-arr}\")\n",
    "print(f\"Element-wise division of arrays: {1/arr}\")\n",
    "print(f\"Element-wise power of arrays: {arr**2}\")\n",
    "arr_sum=arr+arr # write\n",
    "print(f\"Element-wise addition of arrays: {arr_sum}\")\n",
    "print(f\"Element-wise greater than of arrays: {arr_sum>arr}\")"
   ],
   "id": "f52d270fec0e4978",
   "outputs": [
    {
     "name": "stdout",
     "output_type": "stream",
     "text": [
      "Sum of two arrays: [[ 2  4  6]\n",
      " [ 8 10 12]]\n",
      "Element-wise multiplication of arrays: [[  4  16  36]\n",
      " [ 64 100 144]]\n",
      "Element-wise subtraction of arrays: [[0 0 0]\n",
      " [0 0 0]]\n",
      "Element-wise division of arrays: [[0.5        0.25       0.16666667]\n",
      " [0.125      0.1        0.08333333]]\n",
      "Element-wise power of arrays: [[  4  16  36]\n",
      " [ 64 100 144]]\n",
      "Element-wise addition of arrays: [[ 4  8 12]\n",
      " [16 20 24]]\n",
      "Element-wise greater than of arrays: [[ True  True  True]\n",
      " [ True  True  True]]\n"
     ]
    }
   ],
   "execution_count": 25
  },
  {
   "metadata": {},
   "cell_type": "markdown",
   "source": "### index",
   "id": "d680d0430fb40f48"
  },
  {
   "metadata": {
    "ExecuteTime": {
     "end_time": "2025-10-03T20:00:54.021925Z",
     "start_time": "2025-10-03T20:00:54.019414Z"
    }
   },
   "cell_type": "code",
   "source": [
    "arr = np.arange(0,10)\n",
    "# readonly\n",
    "print(f\"arr == {arr}\")\n",
    "print(f\"arr[5] == 5: {arr[5]}\")\n",
    "print(f\"arr[5:8] == [5,6,7]: {arr[5:8]}\")\n",
    "print(f\"arr[1] == 1: {arr[1]}\")\n",
    "print(f\"arr[:] == {arr[:]}\")"
   ],
   "id": "cdd41889c70cb760",
   "outputs": [
    {
     "name": "stdout",
     "output_type": "stream",
     "text": [
      "arr[5] == 5: 5\n",
      "arr[5:8] == [5,6,7]: [5 6 7]\n",
      "arr[1] == 1: 1\n",
      "arr[:]==[0 1 2 3 4 5 6 7 8 9]\n"
     ]
    }
   ],
   "execution_count": 33
  },
  {
   "metadata": {},
   "cell_type": "markdown",
   "source": "### copy data",
   "id": "4d1bbf75e6e47ade"
  },
  {
   "metadata": {
    "ExecuteTime": {
     "end_time": "2025-10-03T20:10:10.237429Z",
     "start_time": "2025-10-03T20:10:10.235060Z"
    }
   },
   "cell_type": "code",
   "source": [
    "arr = np.arange(0,10)\n",
    "print(f\"arr == {arr}\")\n",
    "slice_example = arr[2:4].copy()\n",
    "print(f\"arr_copy_slice == {slice_example}\")\n",
    "slice_example[:]=111\n",
    "print(f\"arr_set_value_to_all == {slice_example}\")"
   ],
   "id": "d9be9e06f3b74e2",
   "outputs": [
    {
     "name": "stdout",
     "output_type": "stream",
     "text": [
      "arr == [0 1 2 3 4 5 6 7 8 9]\n",
      "arr_copy_slice == [2 3]\n",
      "arr_set_value == [111 111]\n"
     ]
    }
   ],
   "execution_count": 42
  },
  {
   "metadata": {},
   "cell_type": "markdown",
   "source": "### multi dimension array",
   "id": "23a5ffc4d4fc9f14"
  },
  {
   "metadata": {
    "ExecuteTime": {
     "end_time": "2025-10-03T20:12:45.668209Z",
     "start_time": "2025-10-03T20:12:45.665634Z"
    }
   },
   "cell_type": "code",
   "source": [
    "arr = np.array([[1,2,3], [4,5,6], [7,8,9]])\n",
    "print(f\"arr == {arr}\")\n",
    "print(f\"arr[1,2] is equal to{arr[1,2]}\")"
   ],
   "id": "88fa49273b2a420e",
   "outputs": [
    {
     "name": "stdout",
     "output_type": "stream",
     "text": [
      "arr == [[1 2 3]\n",
      " [4 5 6]\n",
      " [7 8 9]]\n",
      "arr[1,2] is equal to6\n"
     ]
    }
   ],
   "execution_count": 46
  },
  {
   "metadata": {},
   "cell_type": "markdown",
   "source": "### mask",
   "id": "1c24a0eb37bf5486"
  },
  {
   "metadata": {
    "ExecuteTime": {
     "end_time": "2025-10-03T20:18:58.497848Z",
     "start_time": "2025-10-03T20:18:58.495194Z"
    }
   },
   "cell_type": "code",
   "source": [
    "arr = np.arange(0,21)\n",
    "print(f\"arr == {arr}\")\n",
    "print(f\"are elements <100 == {arr<100}\")\n",
    "arr[arr<20]=8888 #write to arr\n",
    "print(f\"mask numbers less than 20 == {arr}\")"
   ],
   "id": "d4dbbecb86f3e598",
   "outputs": [
    {
     "name": "stdout",
     "output_type": "stream",
     "text": [
      "arr == [ 0  1  2  3  4  5  6  7  8  9 10 11 12 13 14 15 16 17 18 19 20]\n",
      "are elements <100 == [ True  True  True  True  True  True  True  True  True  True  True  True\n",
      "  True  True  True  True  True  True  True  True  True]\n",
      "mask numbers less than 20 == [8888 8888 8888 8888 8888 8888 8888 8888 8888 8888 8888 8888 8888 8888\n",
      " 8888 8888 8888 8888 8888 8888   20]\n"
     ]
    }
   ],
   "execution_count": 59
  },
  {
   "metadata": {},
   "cell_type": "markdown",
   "source": "### transposition",
   "id": "5f1f613a9d34c683"
  },
  {
   "metadata": {
    "ExecuteTime": {
     "end_time": "2025-10-03T20:22:44.942451Z",
     "start_time": "2025-10-03T20:22:44.934822Z"
    }
   },
   "cell_type": "code",
   "source": [
    "arr = np.arange(15)\n",
    "print(f\"arr == {arr}\")\n",
    "arr = arr.reshape(3,5)\n",
    "print(f\"arr reshape {arr}\")\n",
    "print(f\"arr transposition {arr.T}\")\n",
    "print(f\"arr multiplication {np.dot(arr.T, arr)}\")"
   ],
   "id": "de4d99e283d8f222",
   "outputs": [
    {
     "name": "stdout",
     "output_type": "stream",
     "text": [
      "arr == [ 0  1  2  3  4  5  6  7  8  9 10 11 12 13 14]\n",
      "arr reshape [[ 0  1  2  3  4]\n",
      " [ 5  6  7  8  9]\n",
      " [10 11 12 13 14]]\n",
      "arr transposition [[ 0  5 10]\n",
      " [ 1  6 11]\n",
      " [ 2  7 12]\n",
      " [ 3  8 13]\n",
      " [ 4  9 14]]\n",
      "arr multiplication [[125 140 155 170 185]\n",
      " [140 158 176 194 212]\n",
      " [155 176 197 218 239]\n",
      " [170 194 218 242 266]\n",
      " [185 212 239 266 293]]\n"
     ]
    }
   ],
   "execution_count": 63
  }
 ],
 "metadata": {
  "kernelspec": {
   "display_name": "Python 3",
   "language": "python",
   "name": "python3"
  },
  "language_info": {
   "codemirror_mode": {
    "name": "ipython",
    "version": 2
   },
   "file_extension": ".py",
   "mimetype": "text/x-python",
   "name": "python",
   "nbconvert_exporter": "python",
   "pygments_lexer": "ipython2",
   "version": "2.7.6"
  }
 },
 "nbformat": 4,
 "nbformat_minor": 5
}
