{
 "cells": [
  {
   "cell_type": "code",
   "id": "initial_id",
   "metadata": {
    "collapsed": true,
    "ExecuteTime": {
     "end_time": "2025-10-04T11:19:54.900765Z",
     "start_time": "2025-10-04T11:19:54.645122Z"
    }
   },
   "source": [
    "import pandas as pd\n",
    "import numpy as np"
   ],
   "outputs": [],
   "execution_count": 1
  },
  {
   "metadata": {},
   "cell_type": "markdown",
   "source": "## Series",
   "id": "c8108342d3525a82"
  },
  {
   "metadata": {
    "ExecuteTime": {
     "end_time": "2025-10-04T11:29:39.225798Z",
     "start_time": "2025-10-04T11:29:39.221177Z"
    }
   },
   "cell_type": "code",
   "source": [
    "s1 = pd.Series([1, 2, -3, 4, -5])\n",
    "\n",
    "print(f\"Series: \\n{s1}\")\n",
    "print(f\"Values: {s1.values}\")\n",
    "print(f\"Index: {s1.index}\")"
   ],
   "id": "d7f2b4633fa7af4a",
   "outputs": [
    {
     "name": "stdout",
     "output_type": "stream",
     "text": [
      "Series: \n",
      "0    1\n",
      "1    2\n",
      "2   -3\n",
      "3    4\n",
      "4   -5\n",
      "dtype: int64\n",
      "Values: [ 1  2 -3  4 -5]\n",
      "Index: RangeIndex(start=0, stop=5, step=1)\n"
     ]
    }
   ],
   "execution_count": 23
  },
  {
   "metadata": {
    "ExecuteTime": {
     "end_time": "2025-10-04T11:29:25.942140Z",
     "start_time": "2025-10-04T11:29:25.938849Z"
    }
   },
   "cell_type": "code",
   "source": [
    "s1=pd.Series([1,2,-5,0], index=['a','b','c','d'])\n",
    "print(f\"Before: \\n{s1}\")\n",
    "s1['a']=1000\n",
    "print(f\"After: \\n{s1}\")"
   ],
   "id": "7a9ac2ddfa9bec2a",
   "outputs": [
    {
     "name": "stdout",
     "output_type": "stream",
     "text": [
      "Before: \n",
      "a    1\n",
      "b    2\n",
      "c   -5\n",
      "d    0\n",
      "dtype: int64\n",
      "After: \n",
      "a    1000\n",
      "b       2\n",
      "c      -5\n",
      "d       0\n",
      "dtype: int64\n"
     ]
    }
   ],
   "execution_count": 22
  },
  {
   "metadata": {},
   "cell_type": "markdown",
   "source": "### comparison",
   "id": "9e4e8cdce0b592f"
  },
  {
   "metadata": {
    "ExecuteTime": {
     "end_time": "2025-10-04T11:30:21.945007Z",
     "start_time": "2025-10-04T11:30:21.941050Z"
    }
   },
   "cell_type": "code",
   "source": [
    "# readonly\n",
    "s1[s1>0]"
   ],
   "id": "8079cbd14043554a",
   "outputs": [
    {
     "data": {
      "text/plain": [
       "0    1\n",
       "1    2\n",
       "3    4\n",
       "dtype: int64"
      ]
     },
     "execution_count": 24,
     "metadata": {},
     "output_type": "execute_result"
    }
   ],
   "execution_count": 24
  }
 ],
 "metadata": {
  "kernelspec": {
   "display_name": "Python 3",
   "language": "python",
   "name": "python3"
  },
  "language_info": {
   "codemirror_mode": {
    "name": "ipython",
    "version": 2
   },
   "file_extension": ".py",
   "mimetype": "text/x-python",
   "name": "python",
   "nbconvert_exporter": "python",
   "pygments_lexer": "ipython2",
   "version": "2.7.6"
  }
 },
 "nbformat": 4,
 "nbformat_minor": 5
}
