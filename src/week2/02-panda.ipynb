{
 "cells": [
  {
   "cell_type": "code",
   "id": "initial_id",
   "metadata": {
    "collapsed": true,
    "ExecuteTime": {
     "end_time": "2025-10-04T17:57:04.441753Z",
     "start_time": "2025-10-04T17:57:04.162846Z"
    }
   },
   "source": [
    "import pandas as pd\n",
    "import numpy as np"
   ],
   "outputs": [],
   "execution_count": 4
  },
  {
   "metadata": {},
   "cell_type": "markdown",
   "source": "## Series",
   "id": "c8108342d3525a82"
  },
  {
   "metadata": {
    "ExecuteTime": {
     "end_time": "2025-10-04T11:29:39.225798Z",
     "start_time": "2025-10-04T11:29:39.221177Z"
    }
   },
   "cell_type": "code",
   "source": [
    "s1 = pd.Series([1, 2, -3, 4, -5])\n",
    "\n",
    "print(f\"Series: \\n{s1}\")\n",
    "print(f\"Values: {s1.values}\")\n",
    "print(f\"Index: {s1.index}\")"
   ],
   "id": "d7f2b4633fa7af4a",
   "outputs": [
    {
     "name": "stdout",
     "output_type": "stream",
     "text": [
      "Series: \n",
      "0    1\n",
      "1    2\n",
      "2   -3\n",
      "3    4\n",
      "4   -5\n",
      "dtype: int64\n",
      "Values: [ 1  2 -3  4 -5]\n",
      "Index: RangeIndex(start=0, stop=5, step=1)\n"
     ]
    }
   ],
   "execution_count": 23
  },
  {
   "metadata": {
    "ExecuteTime": {
     "end_time": "2025-10-04T11:29:25.942140Z",
     "start_time": "2025-10-04T11:29:25.938849Z"
    }
   },
   "cell_type": "code",
   "source": [
    "s1=pd.Series([1,2,-5,0], index=['a','b','c','d'])\n",
    "print(f\"Before: \\n{s1}\")\n",
    "s1['a']=1000\n",
    "print(f\"After: \\n{s1}\")"
   ],
   "id": "7a9ac2ddfa9bec2a",
   "outputs": [
    {
     "name": "stdout",
     "output_type": "stream",
     "text": [
      "Before: \n",
      "a    1\n",
      "b    2\n",
      "c   -5\n",
      "d    0\n",
      "dtype: int64\n",
      "After: \n",
      "a    1000\n",
      "b       2\n",
      "c      -5\n",
      "d       0\n",
      "dtype: int64\n"
     ]
    }
   ],
   "execution_count": 22
  },
  {
   "metadata": {},
   "cell_type": "markdown",
   "source": "### comparison",
   "id": "9e4e8cdce0b592f"
  },
  {
   "metadata": {
    "ExecuteTime": {
     "end_time": "2025-10-04T17:57:07.187888Z",
     "start_time": "2025-10-04T17:57:07.179581Z"
    }
   },
   "cell_type": "code",
   "source": [
    "s1=pd.Series([1,2,-5,0], index=['a','b','c','d'])\n",
    "s1[s1>0] # readonly"
   ],
   "id": "8079cbd14043554a",
   "outputs": [
    {
     "data": {
      "text/plain": [
       "a    1\n",
       "b    2\n",
       "dtype: int64"
      ]
     },
     "execution_count": 5,
     "metadata": {},
     "output_type": "execute_result"
    }
   ],
   "execution_count": 5
  },
  {
   "metadata": {},
   "cell_type": "markdown",
   "source": "### Algebra",
   "id": "eb86d33168518abe"
  },
  {
   "metadata": {
    "ExecuteTime": {
     "end_time": "2025-10-04T17:59:58.203032Z",
     "start_time": "2025-10-04T17:59:58.199816Z"
    }
   },
   "cell_type": "code",
   "source": [
    "# readonly\n",
    "s1=pd.Series([1,2,-5,0], index=['a','b','c','d'])\n",
    "print(f\"s1:\\n{s1}\\n\")\n",
    "print(f\"s1 * 2:\\n{s1*2}\\n\")\n",
    "print(f\"s1.isnull():\\n{s1.isnull()}\")"
   ],
   "id": "e25e0d5b0b2118c4",
   "outputs": [
    {
     "name": "stdout",
     "output_type": "stream",
     "text": [
      "s1:\n",
      "a    1\n",
      "b    2\n",
      "c   -5\n",
      "d    0\n",
      "dtype: int64\n",
      "\n",
      "s1 * 2:\n",
      "a     2\n",
      "b     4\n",
      "c   -10\n",
      "d     0\n",
      "dtype: int64\n",
      "\n",
      "s1.isnull():\n",
      "a    False\n",
      "b    False\n",
      "c    False\n",
      "d    False\n",
      "dtype: bool\n"
     ]
    }
   ],
   "execution_count": 9
  },
  {
   "metadata": {},
   "cell_type": "markdown",
   "source": "### dataframe",
   "id": "c2d36ece35003291"
  },
  {
   "metadata": {
    "ExecuteTime": {
     "end_time": "2025-10-04T18:03:59.247769Z",
     "start_time": "2025-10-04T18:03:59.187715Z"
    }
   },
   "cell_type": "code",
   "source": [
    "dados={\n",
    "    'estado': ['SP', 'MG', 'PR', 'SP','MG', 'PR'],\n",
    "    'ano':[2019,2019,2019,2020,2020,2020],\n",
    "    'pop': [45.9, 21.2,16.9,46.6,21.4,17.3]\n",
    "}\n",
    "df=pd.DataFrame(dados)\n",
    "print(f\"--- df (Original DataFrame) ---\\n{df}\\n\")\n",
    "\n",
    "# 1. View first 2 rows\n",
    "print(f\"--- df.head(2) (First 2 rows) ---\\n{df.head(2)}\\n\")\n",
    "\n",
    "# 2. View last 2 rows\n",
    "# NOTE: The correct function is 'tail(n)', not 'tails(n)'\n",
    "print(f\"--- df.tail(2) (Last 2 rows) ---\\n{df.tail(2)}\\n\")\n",
    "\n",
    "# 3. View 2 random rows\n",
    "print(f\"--- df.sample(2) (2 random rows) ---\\n{df.sample(2)}\\n\")\n",
    "\n",
    "# 4. Descriptive statistics\n",
    "print(f\"--- df.describe() (Descriptive Statistics) ---\\n{df.describe()}\\n\")\n",
    "\n",
    "# 5. Sort by 'ano' (ascending by default)\n",
    "print(f\"--- df.sort_values(by='ano') (Sort by 'ano' ASC) ---\\n{df.sort_values(by='ano')}\\n\")\n",
    "\n",
    "# 6. Sort by 'ano' descending\n",
    "print(f\"--- df.sort_values(by='ano', ascending=False) (Sort by 'ano' DESC) ---\\n{df.sort_values(by='ano', ascending=False)}\\n\")\n",
    "\n",
    "# 7. Sort by 'pop' descending\n",
    "print(f\"--- df.sort_values(by='pop', ascending=False) (Sort by 'pop' DESC) ---\\n{df.sort_values(by='pop', ascending=False)}\\n\")\n",
    "\n",
    "# 8. Sort by 'estado', then 'ano' (ascending)\n",
    "print(f\"--- df.sort_values(by=['estado','ano']) (Sort by 'estado' then 'ano' ASC) ---\\n{df.sort_values(by=['estado','ano'])}\\n\")\n",
    "\n",
    "# 9. Sort by 'estado', then 'ano' (descending)\n",
    "print(f\"--- df.sort_values(by=['estado','ano'], ascending=False) (Sort by 'estado' then 'ano' DESC) ---\\n{df.sort_values(by=['estado','ano'], ascending=False)}\\n\")\n",
    "\n",
    "# 10. Group by 'estado' and calculate the mean of numeric columns\n",
    "print(f\"--- df.groupby('estado').mean() (Mean by 'estado') ---\\n{df.groupby('estado').mean()}\\n\")\n",
    "\n",
    "# 11. Group by 'estado' and calculate the sum of numeric columns\n",
    "print(f\"--- df.groupby('estado').sum() (Sum by 'estado') ---\\n{df.groupby('estado').sum()}\\n\")\n",
    "\n",
    "# 12. Group by 'estado' and find the minimum 'ano' for each group (using agg)\n",
    "print(f\"--- df.groupby('estado').agg({{'ano':'min'}}) (Min 'ano' by 'estado') ---\\n{df.groupby('estado').agg({'ano':'min'})}\\n\")"
   ],
   "id": "62dca797f159dbc5",
   "outputs": [
    {
     "name": "stdout",
     "output_type": "stream",
     "text": [
      "--- df (Original DataFrame) ---\n",
      "  estado    ano   pop\n",
      "0     SP   2019  45.9\n",
      "1     MG  20119  21.2\n",
      "2     PR  20019  16.9\n",
      "3     SP   2020  46.6\n",
      "4     MG   2020  21.4\n",
      "5     PR   2020  17.3\n",
      "\n",
      "--- df.head(2) (First 2 rows) ---\n",
      "  estado    ano   pop\n",
      "0     SP   2019  45.9\n",
      "1     MG  20119  21.2\n",
      "\n",
      "--- df.tail(2) (Last 2 rows) ---\n",
      "  estado   ano   pop\n",
      "4     MG  2020  21.4\n",
      "5     PR  2020  17.3\n",
      "\n",
      "--- df.sample(2) (2 random rows) ---\n",
      "  estado    ano   pop\n",
      "1     MG  20119  21.2\n",
      "2     PR  20019  16.9\n",
      "\n",
      "--- df.describe() (Descriptive Statistics) ---\n",
      "                ano        pop\n",
      "count      6.000000   6.000000\n",
      "mean    8036.166667  28.216667\n",
      "std     9320.646274  14.096725\n",
      "min     2019.000000  16.900000\n",
      "25%     2020.000000  18.275000\n",
      "50%     2020.000000  21.300000\n",
      "75%    15519.250000  39.775000\n",
      "max    20119.000000  46.600000\n",
      "\n",
      "--- df.sort_values(by='ano') (Sort by 'ano' ASC) ---\n",
      "  estado    ano   pop\n",
      "0     SP   2019  45.9\n",
      "3     SP   2020  46.6\n",
      "5     PR   2020  17.3\n",
      "4     MG   2020  21.4\n",
      "2     PR  20019  16.9\n",
      "1     MG  20119  21.2\n",
      "\n",
      "--- df.sort_values(by='ano', ascending=False) (Sort by 'ano' DESC) ---\n",
      "  estado    ano   pop\n",
      "1     MG  20119  21.2\n",
      "2     PR  20019  16.9\n",
      "4     MG   2020  21.4\n",
      "3     SP   2020  46.6\n",
      "5     PR   2020  17.3\n",
      "0     SP   2019  45.9\n",
      "\n",
      "--- df.sort_values(by='pop', ascending=False) (Sort by 'pop' DESC) ---\n",
      "  estado    ano   pop\n",
      "3     SP   2020  46.6\n",
      "0     SP   2019  45.9\n",
      "4     MG   2020  21.4\n",
      "1     MG  20119  21.2\n",
      "5     PR   2020  17.3\n",
      "2     PR  20019  16.9\n",
      "\n",
      "--- df.sort_values(by=['estado','ano']) (Sort by 'estado' then 'ano' ASC) ---\n",
      "  estado    ano   pop\n",
      "4     MG   2020  21.4\n",
      "1     MG  20119  21.2\n",
      "5     PR   2020  17.3\n",
      "2     PR  20019  16.9\n",
      "0     SP   2019  45.9\n",
      "3     SP   2020  46.6\n",
      "\n",
      "--- df.sort_values(by=['estado','ano'], ascending=False) (Sort by 'estado' then 'ano' DESC) ---\n",
      "  estado    ano   pop\n",
      "3     SP   2020  46.6\n",
      "0     SP   2019  45.9\n",
      "2     PR  20019  16.9\n",
      "5     PR   2020  17.3\n",
      "1     MG  20119  21.2\n",
      "4     MG   2020  21.4\n",
      "\n",
      "--- df.groupby('estado').mean() (Mean by 'estado') ---\n",
      "            ano    pop\n",
      "estado                \n",
      "MG      11069.5  21.30\n",
      "PR      11019.5  17.10\n",
      "SP       2019.5  46.25\n",
      "\n",
      "--- df.groupby('estado').sum() (Sum by 'estado') ---\n",
      "          ano   pop\n",
      "estado             \n",
      "MG      22139  42.6\n",
      "PR      22039  34.2\n",
      "SP       4039  92.5\n",
      "\n",
      "--- df.groupby('estado').agg({'ano':'min'}) (Min 'ano' by 'estado') ---\n",
      "         ano\n",
      "estado      \n",
      "MG      2020\n",
      "PR      2020\n",
      "SP      2019\n",
      "\n"
     ]
    }
   ],
   "execution_count": 12
  },
  {
   "metadata": {},
   "cell_type": "markdown",
   "source": "### New DF from the previous one (see the columns)",
   "id": "d9ee0a3616b7431a"
  },
  {
   "metadata": {
    "ExecuteTime": {
     "end_time": "2025-10-04T18:11:46.011682Z",
     "start_time": "2025-10-04T18:11:46.006756Z"
    }
   },
   "cell_type": "code",
   "source": [
    "dados={\n",
    "    'estado': ['SP', 'MG', 'PR', 'SP','MG', 'PR'],\n",
    "    'ano':[2019,2019,2019,2020,2020,2020],\n",
    "    'pop': [45.9, 21.2,16.9,46.6,21.4,17.3]\n",
    "}\n",
    "df=pd.DataFrame(dados)\n",
    "df2=pd.DataFrame(dados,columns=['ano','estado','pop'])\n",
    "print(f\"--- df (Original DataFrame) ---\\n{df}\\n\")\n",
    "print(f\"--- df2 (Copy of df) ---\\n{df2}\\n\")"
   ],
   "id": "b68c54ca152689f3",
   "outputs": [
    {
     "name": "stdout",
     "output_type": "stream",
     "text": [
      "--- df (Original DataFrame) ---\n",
      "  estado    ano   pop\n",
      "0     SP   2019  45.9\n",
      "1     MG  20119  21.2\n",
      "2     PR  20019  16.9\n",
      "3     SP   2020  46.6\n",
      "4     MG   2020  21.4\n",
      "5     PR   2020  17.3\n",
      "\n",
      "--- df (Copy DataFrame) ---\n",
      "     ano estado   pop\n",
      "0   2019     SP  45.9\n",
      "1  20119     MG  21.2\n",
      "2  20019     PR  16.9\n",
      "3   2020     SP  46.6\n",
      "4   2020     MG  21.4\n",
      "5   2020     PR  17.3\n",
      "\n"
     ]
    }
   ],
   "execution_count": 14
  },
  {
   "metadata": {},
   "cell_type": "markdown",
   "source": "### Assign Values",
   "id": "9f25bdb36f121ecc"
  },
  {
   "metadata": {
    "ExecuteTime": {
     "end_time": "2025-10-04T18:14:12.640410Z",
     "start_time": "2025-10-04T18:14:12.633831Z"
    }
   },
   "cell_type": "code",
   "source": [
    "dados={\n",
    "    'estado': ['SP', 'MG', 'PR', 'SP','MG', 'PR'],\n",
    "    'ano':[2019,2019,2019,2020,2020,2020],\n",
    "    'pop': [45.9, 21.2,16.9,46.6,21.4,17.3]\n",
    "}\n",
    "df=pd.DataFrame(dados,columns=['ano','estado','pop'])\n",
    "df['estimativa']=50\n",
    "print(f\"--- df (DataFrame) ---\\n{df}\\n\")\n",
    "df['estimativa']=np.arange(6)\n",
    "print(f\"--- df (DataFrame) ---\\n{df}\\n\")\n",
    "df3=df['ano']\n",
    "print(f\"--- df3=df['ano'] (DataFrame) ---\\n{df3}\\n\")\n",
    "df['Não Paraná']=df.estado!='PR'\n",
    "print(f\"--- df['Não Paraná']=df.estado!='PR' (DataFrame) ---\\n{df}\\n\")"
   ],
   "id": "52b6ecc53960886c",
   "outputs": [
    {
     "name": "stdout",
     "output_type": "stream",
     "text": [
      "--- df (DataFrame) ---\n",
      "     ano estado   pop  estimativa\n",
      "0   2019     SP  45.9          50\n",
      "1  20119     MG  21.2          50\n",
      "2  20019     PR  16.9          50\n",
      "3   2020     SP  46.6          50\n",
      "4   2020     MG  21.4          50\n",
      "5   2020     PR  17.3          50\n",
      "\n",
      "--- df (DataFrame) ---\n",
      "     ano estado   pop  estimativa\n",
      "0   2019     SP  45.9           0\n",
      "1  20119     MG  21.2           1\n",
      "2  20019     PR  16.9           2\n",
      "3   2020     SP  46.6           3\n",
      "4   2020     MG  21.4           4\n",
      "5   2020     PR  17.3           5\n",
      "\n",
      "--- df3=df2['ano'] (DataFrame) ---\n",
      "0     2019\n",
      "1    20119\n",
      "2    20019\n",
      "3     2020\n",
      "4     2020\n",
      "5     2020\n",
      "Name: ano, dtype: int64\n",
      "\n",
      "--- df2['Não Paraná']=df2.estado!='PR' (DataFrame) ---\n",
      "     ano estado   pop  estimativa  Não Paraná\n",
      "0   2019     SP  45.9           0        True\n",
      "1  20119     MG  21.2           1        True\n",
      "2  20019     PR  16.9           2       False\n",
      "3   2020     SP  46.6           3        True\n",
      "4   2020     MG  21.4           4        True\n",
      "5   2020     PR  17.3           5       False\n",
      "\n"
     ]
    }
   ],
   "execution_count": 19
  },
  {
   "metadata": {},
   "cell_type": "code",
   "outputs": [],
   "execution_count": null,
   "source": "df2['estimativa']=np.arange(6)",
   "id": "d99d1f6fe3e25844"
  },
  {
   "metadata": {},
   "cell_type": "markdown",
   "source": "### delete a column",
   "id": "58b4095807cf04db"
  },
  {
   "metadata": {
    "ExecuteTime": {
     "end_time": "2025-10-04T18:19:10.884776Z",
     "start_time": "2025-10-04T18:19:10.879597Z"
    }
   },
   "cell_type": "code",
   "source": [
    "dados={\n",
    "    'estado': ['SP', 'MG', 'PR', 'SP','MG', 'PR'],\n",
    "    'ano':[2019,2019,2019,2020,2020,2020],\n",
    "    'pop': [45.9, 21.2,16.9,46.6,21.4,17.3]\n",
    "}\n",
    "df=pd.DataFrame(dados,columns=['ano','estado','pop'])\n",
    "df['Not PR']=df.estado!='PR'\n",
    "print(f\"--- df (Original DataFrame) ---\\n{df}\\n\")\n",
    "del df['Not PR']\n",
    "print(f\"--- df (delete columm Not PR) ---\\n{df}\\n\")"
   ],
   "id": "a89288de6526b75",
   "outputs": [
    {
     "name": "stdout",
     "output_type": "stream",
     "text": [
      "--- df (Original DataFrame) ---\n",
      "     ano estado   pop  Not PR\n",
      "0   2019     SP  45.9    True\n",
      "1  20119     MG  21.2    True\n",
      "2  20019     PR  16.9   False\n",
      "3   2020     SP  46.6    True\n",
      "4   2020     MG  21.4    True\n",
      "5   2020     PR  17.3   False\n",
      "\n",
      "--- df (delete columm Not PR) ---\n",
      "     ano estado   pop\n",
      "0   2019     SP  45.9\n",
      "1  20119     MG  21.2\n",
      "2  20019     PR  16.9\n",
      "3   2020     SP  46.6\n",
      "4   2020     MG  21.4\n",
      "5   2020     PR  17.3\n",
      "\n"
     ]
    }
   ],
   "execution_count": 38
  },
  {
   "metadata": {},
   "cell_type": "markdown",
   "source": "### extend dataframe",
   "id": "822c48c9f14dbf95"
  },
  {
   "metadata": {
    "ExecuteTime": {
     "end_time": "2025-10-04T18:31:04.023729Z",
     "start_time": "2025-10-04T18:31:04.015263Z"
    }
   },
   "cell_type": "code",
   "source": [
    "dados={\n",
    "    'estado': ['SP', 'MG', 'PR', 'SP','MG', 'PR'],\n",
    "    'ano':[2019,2019,2019,2020,2020,2020],\n",
    "    'pop': [45.9, 21.2,16.9,46.6,21.4,17.3]\n",
    "}\n",
    "df=pd.DataFrame(dados,columns=['ano','estado','pop'])\n",
    "\n",
    "print(f\"--- df (Original DataFrame) ---\\n{df}\\n\")\n",
    "# 1. Get the dimensions (rows, columns)\n",
    "print(f\"--- df.shape (Shape/Dimensions) ---\\n{df.shape}\\n\")\n",
    "# 2. Get the number of rows\n",
    "print(f\"--- df.shape[0] (Number of Rows) ---\\n{df.shape[0]}\\n\")\n",
    "# 3. Get the row index (labels)\n",
    "print(f\"--- df.index (Row Index) ---\\n{df.index}\\n\")\n",
    "# 4. Get the column labels\n",
    "print(f\"--- df.columns (Column Names) ---\\n{df.columns}\\n\")\n",
    "# 5. Count non-missing values per column\n",
    "print(f\"--- df.count() (Non-null Counts) ---\\n{df.count()}\")"
   ],
   "id": "ff4c74dfa187e53d",
   "outputs": [
    {
     "name": "stdout",
     "output_type": "stream",
     "text": [
      "--- df (Original DataFrame) ---\n",
      "     ano estado   pop\n",
      "0   2019     SP  45.9\n",
      "1  20119     MG  21.2\n",
      "2  20019     PR  16.9\n",
      "3   2020     SP  46.6\n",
      "4   2020     MG  21.4\n",
      "5   2020     PR  17.3\n",
      "\n",
      "--- df.shape (Shape/Dimensions) ---\n",
      "(6, 3)\n",
      "\n",
      "--- df.shape[0] (Number of Rows) ---\n",
      "6\n",
      "\n",
      "--- df.index (Row Index) ---\n",
      "RangeIndex(start=0, stop=6, step=1)\n",
      "\n",
      "--- df.columns (Column Names) ---\n",
      "Index(['ano', 'estado', 'pop'], dtype='object')\n",
      "\n",
      "--- df.count() (Non-null Counts) ---\n",
      "ano       6\n",
      "estado    6\n",
      "pop       6\n",
      "dtype: int64\n"
     ]
    }
   ],
   "execution_count": 45
  },
  {
   "metadata": {},
   "cell_type": "markdown",
   "source": "### update column name",
   "id": "a5d305cbd0ddc801"
  },
  {
   "metadata": {
    "ExecuteTime": {
     "end_time": "2025-10-04T18:34:20.927548Z",
     "start_time": "2025-10-04T18:34:20.920470Z"
    }
   },
   "cell_type": "code",
   "source": [
    "dados={\n",
    "    'estado': ['SP', 'MG', 'PR', 'SP','MG', 'PR'],\n",
    "    'ano':[2019,2019,2019,2020,2020,2020],\n",
    "    'pop': [45.9, 21.2,16.9,46.6,21.4,17.3]\n",
    "}\n",
    "df=pd.DataFrame(dados,columns=['ano','estado','pop'])\n",
    "df['estimativa']=50\n",
    "\n",
    "print(f\"--- df (Original DataFrame) ---\\n{df}\\n\")\n",
    "df.columns=['Ano','estado','Populacao','estimativa']\n",
    "print(f\"--- df (renamed columns of DataFrame) ---\\n{df}\\n\")"
   ],
   "id": "f4eb3e8f4c6e4c1e",
   "outputs": [
    {
     "name": "stdout",
     "output_type": "stream",
     "text": [
      "--- df (Original DataFrame) ---\n",
      "     ano estado   pop  estimativa\n",
      "0   2019     SP  45.9          50\n",
      "1  20119     MG  21.2          50\n",
      "2  20019     PR  16.9          50\n",
      "3   2020     SP  46.6          50\n",
      "4   2020     MG  21.4          50\n",
      "5   2020     PR  17.3          50\n",
      "\n",
      "--- df (renamed columns of DataFrame) ---\n",
      "     Ano estado  Populacao  estimativa\n",
      "0   2019     SP       45.9          50\n",
      "1  20119     MG       21.2          50\n",
      "2  20019     PR       16.9          50\n",
      "3   2020     SP       46.6          50\n",
      "4   2020     MG       21.4          50\n",
      "5   2020     PR       17.3          50\n",
      "\n"
     ]
    }
   ],
   "execution_count": 55
  },
  {
   "metadata": {},
   "cell_type": "markdown",
   "source": "### Analyze the DataFrame",
   "id": "d5f58666f399f6a1"
  },
  {
   "metadata": {
    "ExecuteTime": {
     "end_time": "2025-10-04T18:30:43.324631Z",
     "start_time": "2025-10-04T18:30:43.316791Z"
    }
   },
   "cell_type": "code",
   "source": [
    "dados={\n",
    "    'estado': ['SP', 'MG', 'PR', 'SP','MG', 'PR'],\n",
    "    'ano':[2019,2019,2019,2020,2020,2020],\n",
    "    'pop': [45.9, 21.2,16.9,46.6,21.4,17.3]\n",
    "}\n",
    "df=pd.DataFrame(dados,columns=['ano','estado','pop'])\n",
    "print(f\"--- df describe ---\\n{df2.describe(include='all')}\\n\")"
   ],
   "id": "76e11da19c6e9e3b",
   "outputs": [
    {
     "name": "stdout",
     "output_type": "stream",
     "text": [
      "--- df describe ---\n",
      "                 ano estado        pop\n",
      "count       6.000000      6   6.000000\n",
      "unique           NaN      3        NaN\n",
      "top              NaN     SP        NaN\n",
      "freq             NaN      2        NaN\n",
      "mean     8036.166667    NaN  28.216667\n",
      "std      9320.646274    NaN  14.096725\n",
      "min      2019.000000    NaN  16.900000\n",
      "25%      2020.000000    NaN  18.275000\n",
      "50%      2020.000000    NaN  21.300000\n",
      "75%     15519.250000    NaN  39.775000\n",
      "max     20119.000000    NaN  46.600000\n",
      "\n"
     ]
    }
   ],
   "execution_count": 44
  },
  {
   "metadata": {},
   "cell_type": "markdown",
   "source": "### Update Values and Filter Data",
   "id": "620bde77f22ffea4"
  },
  {
   "metadata": {
    "ExecuteTime": {
     "end_time": "2025-10-04T18:44:27.452142Z",
     "start_time": "2025-10-04T18:44:27.441917Z"
    }
   },
   "cell_type": "code",
   "source": [
    "dados={\n",
    "    'estado': ['SP', 'MG', 'PR', 'SP','MG', 'PR'],\n",
    "    'ano':[2019,2019,2019,2020,2020,2020],\n",
    "    'pop': [45.9, 21.2,16.9,46.6,21.4,17.3]\n",
    "}\n",
    "df=pd.DataFrame(dados,columns=['ano','estado','pop'])\n",
    "print(f\"--- df (Original DataFrame) ---\\n{df}\\n\")\n",
    "df['ano']=df['ano']+2\n",
    "print(f\"--- df (increase year) ---\\n{df}\\n\")\n",
    "print(f\"--- df (ano > 2021) ---\\n{df[df.ano > 2021]}\\n\")\n",
    "print(f\"--- df (ano > 2024) ---\\n{df[df.ano > 2024]}\\n\")"
   ],
   "id": "a1312e96b9bf6d5d",
   "outputs": [
    {
     "name": "stdout",
     "output_type": "stream",
     "text": [
      "--- df (Original DataFrame) ---\n",
      "    ano estado   pop\n",
      "0  2019     SP  45.9\n",
      "1  2019     MG  21.2\n",
      "2  2019     PR  16.9\n",
      "3  2020     SP  46.6\n",
      "4  2020     MG  21.4\n",
      "5  2020     PR  17.3\n",
      "\n",
      "--- df (increase year) ---\n",
      "    ano estado   pop\n",
      "0  2021     SP  45.9\n",
      "1  2021     MG  21.2\n",
      "2  2021     PR  16.9\n",
      "3  2022     SP  46.6\n",
      "4  2022     MG  21.4\n",
      "5  2022     PR  17.3\n",
      "\n",
      "--- df (ano > 2021) ---\n",
      "    ano estado   pop\n",
      "3  2022     SP  46.6\n",
      "4  2022     MG  21.4\n",
      "5  2022     PR  17.3\n",
      "\n",
      "--- df (ano > 2024) ---\n",
      "Empty DataFrame\n",
      "Columns: [ano, estado, pop]\n",
      "Index: []\n",
      "\n",
      "--- df (Original DataFrame) ---\n",
      "    ano estado   pop\n",
      "0  2021     SP  45.9\n",
      "1  2021     MG  21.2\n",
      "2  2021     PR  16.9\n",
      "3  2022     SP  46.6\n",
      "4  2022     MG  21.4\n",
      "5  2022     PR  17.3\n",
      "\n"
     ]
    }
   ],
   "execution_count": 74
  },
  {
   "metadata": {},
   "cell_type": "markdown",
   "source": "### Drop Columns",
   "id": "a5a8797c7c3dccf"
  },
  {
   "metadata": {
    "ExecuteTime": {
     "end_time": "2025-10-04T18:46:30.216286Z",
     "start_time": "2025-10-04T18:46:30.209935Z"
    }
   },
   "cell_type": "code",
   "source": [
    "dados={\n",
    "    'estado': ['SP', 'MG', 'PR', 'SP','MG', 'PR'],\n",
    "    'ano':[2019,2019,2019,2020,2020,2020],\n",
    "    'pop': [45.9, 21.2,16.9,46.6,21.4,17.3]\n",
    "}\n",
    "df=pd.DataFrame(dados,columns=['ano','estado','pop'])\n",
    "print(f\"--- df (Original DataFrame) ---\\n{df}\\n\")\n",
    "df.drop('ano', axis='columns') # works: df=df.drop('ano', axis='columns')\n",
    "print(f\"--- df (after drop won't work) ---\\n{df}\\n\")\n",
    "df.drop('ano', axis='columns', inplace=True)\n",
    "print(f\"--- df (after drop works) ---\\n{df}\\n\")"
   ],
   "id": "25979c137cd8f5bc",
   "outputs": [
    {
     "name": "stdout",
     "output_type": "stream",
     "text": [
      "--- df (Original DataFrame) ---\n",
      "    ano estado   pop\n",
      "0  2019     SP  45.9\n",
      "1  2019     MG  21.2\n",
      "2  2019     PR  16.9\n",
      "3  2020     SP  46.6\n",
      "4  2020     MG  21.4\n",
      "5  2020     PR  17.3\n",
      "\n",
      "--- df (after drop won't work) ---\n",
      "    ano estado   pop\n",
      "0  2019     SP  45.9\n",
      "1  2019     MG  21.2\n",
      "2  2019     PR  16.9\n",
      "3  2020     SP  46.6\n",
      "4  2020     MG  21.4\n",
      "5  2020     PR  17.3\n",
      "\n",
      "--- df (after drop works) ---\n",
      "  estado   pop\n",
      "0     SP  45.9\n",
      "1     MG  21.2\n",
      "2     PR  16.9\n",
      "3     SP  46.6\n",
      "4     MG  21.4\n",
      "5     PR  17.3\n",
      "\n"
     ]
    }
   ],
   "execution_count": 77
  },
  {
   "metadata": {},
   "cell_type": "markdown",
   "source": "### Drop Rows",
   "id": "4f1346dc7ef4d899"
  },
  {
   "metadata": {
    "ExecuteTime": {
     "end_time": "2025-10-04T18:49:10.251227Z",
     "start_time": "2025-10-04T18:49:10.243068Z"
    }
   },
   "cell_type": "code",
   "source": [
    "dados={\n",
    "    'estado': ['SP', 'MG', 'PR', 'SP','MG', 'PR'],\n",
    "    'ano':[2019,2019,2019,2020,2020,2020],\n",
    "    'pop': [45.9, 21.2,16.9,46.6,21.4,17.3]\n",
    "}\n",
    "df=pd.DataFrame(dados,columns=['ano','estado','pop'])\n",
    "print(f\"--- df (Original DataFrame) ---\\n{df}\\n\")\n",
    "df.drop([0,1]) # df=df.drop([0,1])\n",
    "print(f\"--- df (drop first line won't work) ---\\n{df}\\n\")\n",
    "df.drop([0,1], inplace=True)\n",
    "print(f\"--- df (drop first line works) ---\\n{df}\\n\")"
   ],
   "id": "6fd60bccd9cdcab9",
   "outputs": [
    {
     "name": "stdout",
     "output_type": "stream",
     "text": [
      "--- df (Original DataFrame) ---\n",
      "    ano estado   pop\n",
      "0  2019     SP  45.9\n",
      "1  2019     MG  21.2\n",
      "2  2019     PR  16.9\n",
      "3  2020     SP  46.6\n",
      "4  2020     MG  21.4\n",
      "5  2020     PR  17.3\n",
      "\n",
      "--- df (drop first line won't work) ---\n",
      "    ano estado   pop\n",
      "0  2019     SP  45.9\n",
      "1  2019     MG  21.2\n",
      "2  2019     PR  16.9\n",
      "3  2020     SP  46.6\n",
      "4  2020     MG  21.4\n",
      "5  2020     PR  17.3\n",
      "\n",
      "--- df (drop first line works) ---\n",
      "    ano estado   pop\n",
      "2  2019     PR  16.9\n",
      "3  2020     SP  46.6\n",
      "4  2020     MG  21.4\n",
      "5  2020     PR  17.3\n",
      "\n"
     ]
    }
   ],
   "execution_count": 81
  },
  {
   "metadata": {},
   "cell_type": "markdown",
   "source": "### Display Row Data",
   "id": "fa3db617d198f72a"
  },
  {
   "metadata": {
    "ExecuteTime": {
     "end_time": "2025-10-04T18:54:51.998340Z",
     "start_time": "2025-10-04T18:54:51.991955Z"
    }
   },
   "cell_type": "code",
   "source": [
    "dados={\n",
    "    'estado': ['SP', 'MG', 'PR', 'SP','MG', 'PR'],\n",
    "    'ano':[2019,2019,2019,2020,2020,2020],\n",
    "    'pop': [45.9, 21.2,16.9,46.6,21.4,17.3]\n",
    "}\n",
    "df=pd.DataFrame(dados,columns=['ano','estado','pop'])\n",
    "print(f\"--- df (Original DataFrame) ---\\n{df}\\n\")\n",
    "print(f\"--- df.iloc[0] (First Row of df) ---\\n{df.iloc[0]}\\n\")\n",
    "print(f\"--- df.iloc[1:3] (Rows 1 and 2 of df) ---\\n{df.iloc[1:3]}\\n\")\n",
    "print(f\"--- df2.iloc[1:3,[1,2]] (Rows 1-2, Cols 1-2 of df2) ---\\n{df2.iloc[1:3,[1,2]]}\")\n",
    "\n",
    "\n",
    "print(\"\\n--- Descriptions---\")\n",
    "print(f\"df.iloc[0]: Selects the **first row** (position 0) as a Series.\")\n",
    "print(f\"df.iloc[1:3]: Selects **rows 1 and 2** (positions 1 through 3, exclusive).\")\n",
    "print(f\"df.iloc[1:3,[1,2]]: Selects **rows 1 and 2** and **columns 1 ('estado') and 2 ('pop')** of df.\")"
   ],
   "id": "85ac3e0e130fcb7f",
   "outputs": [
    {
     "name": "stdout",
     "output_type": "stream",
     "text": [
      "--- df (Original DataFrame) ---\n",
      "    ano estado   pop\n",
      "0  2019     SP  45.9\n",
      "1  2019     MG  21.2\n",
      "2  2019     PR  16.9\n",
      "3  2020     SP  46.6\n",
      "4  2020     MG  21.4\n",
      "5  2020     PR  17.3\n",
      "\n",
      "--- df.iloc[0] (First Row of df) ---\n",
      "ano       2019\n",
      "estado      SP\n",
      "pop       45.9\n",
      "Name: 0, dtype: object\n",
      "\n",
      "--- df.iloc[1:3] (Rows 1 and 2 of df) ---\n",
      "    ano estado   pop\n",
      "1  2019     MG  21.2\n",
      "2  2019     PR  16.9\n",
      "\n",
      "--- df2.iloc[1:3,[1,2]] (Rows 1-2, Cols 1-2 of df2) ---\n",
      "  estado   pop\n",
      "4     MG  21.4\n",
      "5     PR  17.3\n",
      "\n",
      "--- Descriptions---\n",
      "df.iloc[0]: Selects the **first row** (position 0) as a Series.\n",
      "df.iloc[1:3]: Selects **rows 1 and 2** (positions 1 through 3, exclusive).\n",
      "df.iloc[1:3,[1,2]]: Selects **rows 1 and 2** and **columns 1 ('estado') and 2 ('pop')** of df.\n"
     ]
    }
   ],
   "execution_count": 85
  }
 ],
 "metadata": {
  "kernelspec": {
   "display_name": "Python 3",
   "language": "python",
   "name": "python3"
  },
  "language_info": {
   "codemirror_mode": {
    "name": "ipython",
    "version": 2
   },
   "file_extension": ".py",
   "mimetype": "text/x-python",
   "name": "python",
   "nbconvert_exporter": "python",
   "pygments_lexer": "ipython2",
   "version": "2.7.6"
  }
 },
 "nbformat": 4,
 "nbformat_minor": 5
}
