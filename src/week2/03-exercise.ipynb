{
 "nbformat": 4,
 "nbformat_minor": 0,
 "metadata": {
  "colab": {
   "name": "COM350_Univesp_ExerciciosApoioSemana2.ipynb",
   "provenance": [],
   "authorship_tag": "ABX9TyOfEHohdMXlNiZg+dMpev7X"
  },
  "kernelspec": {
   "name": "python3",
   "display_name": "Python 3 (ipykernel)",
   "language": "python"
  },
  "language_info": {
   "name": "python"
  }
 },
 "cells": [
  {
   "cell_type": "markdown",
   "metadata": {
    "id": "w-Ji360ZTTT-"
   },
   "source": [
    "##Course - Introduction to Data Science - Univesp\n",
    "##Week 2 Support Exercises"
   ]
  },
  {
   "cell_type": "markdown",
   "metadata": {
    "id": "L9cNpCDWTow1"
   },
   "source": [
    "###1 - Load the NumPy and Pandas libraries"
   ]
  },
  {
   "metadata": {
    "ExecuteTime": {
     "end_time": "2025-10-04T19:11:06.172756Z",
     "start_time": "2025-10-04T19:11:06.170993Z"
    }
   },
   "cell_type": "code",
   "source": [
    "import pandas as pd\n",
    "import numpy as np"
   ],
   "outputs": [],
   "execution_count": 2
  },
  {
   "cell_type": "markdown",
   "metadata": {
    "id": "ttQbbyLXUREo"
   },
   "source": [
    "###2 - Create an NDArray with the following values [1, 2.5, 7, -78, -0.9, 130, 25]"
   ]
  },
  {
   "metadata": {
    "ExecuteTime": {
     "end_time": "2025-10-04T19:29:28.272897Z",
     "start_time": "2025-10-04T19:29:28.269936Z"
    }
   },
   "cell_type": "code",
   "source": "np.array([1, 2.5, 7, -78, -0.9, 130, 25])",
   "outputs": [
    {
     "data": {
      "text/plain": [
       "array([  1. ,   2.5,   7. , -78. ,  -0.9, 130. ,  25. ])"
      ]
     },
     "execution_count": 9,
     "metadata": {},
     "output_type": "execute_result"
    }
   ],
   "execution_count": 9
  },
  {
   "cell_type": "markdown",
   "metadata": {
    "id": "dj1u3l8shnCn"
   },
   "source": [
    "###3 - Create an NDArray with values from 0 to 10"
   ]
  },
  {
   "metadata": {
    "ExecuteTime": {
     "end_time": "2025-10-04T19:29:38.193798Z",
     "start_time": "2025-10-04T19:29:38.191340Z"
    }
   },
   "cell_type": "code",
   "source": "np.arange(0,10)",
   "outputs": [
    {
     "data": {
      "text/plain": [
       "array([0, 1, 2, 3, 4, 5, 6, 7, 8, 9])"
      ]
     },
     "execution_count": 10,
     "metadata": {},
     "output_type": "execute_result"
    }
   ],
   "execution_count": 10
  },
  {
   "cell_type": "markdown",
   "metadata": {
    "id": "rnBk9UW1iMeL"
   },
   "source": [
    "###4 – Create a 2x5 NDArray with values of 1"
   ]
  },
  {
   "metadata": {
    "ExecuteTime": {
     "end_time": "2025-10-04T19:32:14.036345Z",
     "start_time": "2025-10-04T19:32:14.033547Z"
    }
   },
   "cell_type": "code",
   "source": [
    "# More efficient (creates the array in one step instead of creating two 1D arrays and then combining them)\n",
    "np.ones((2, 5))\n",
    "\n",
    "# works but is less efficient\n",
    "np.array([\n",
    "    np.ones(5),\n",
    "    np.ones(5),\n",
    "])"
   ],
   "outputs": [
    {
     "data": {
      "text/plain": [
       "array([[1., 1., 1., 1., 1.],\n",
       "       [1., 1., 1., 1., 1.]])"
      ]
     },
     "execution_count": 14,
     "metadata": {},
     "output_type": "execute_result"
    }
   ],
   "execution_count": 14
  },
  {
   "cell_type": "markdown",
   "metadata": {
    "id": "86vJlvlwiyDb"
   },
   "source": [
    "###5 – Create an NDArray with values from 1 to 100, with intervals of 3."
   ]
  },
  {
   "metadata": {
    "ExecuteTime": {
     "end_time": "2025-10-04T19:35:07.816198Z",
     "start_time": "2025-10-04T19:35:07.813530Z"
    }
   },
   "cell_type": "code",
   "source": "np.array(np.arange(1,101,3))  # Use arange - you know the step",
   "outputs": [
    {
     "data": {
      "text/plain": [
       "array([  1,   4,   7,  10,  13,  16,  19,  22,  25,  28,  31,  34,  37,\n",
       "        40,  43,  46,  49,  52,  55,  58,  61,  64,  67,  70,  73,  76,\n",
       "        79,  82,  85,  88,  91,  94,  97, 100])"
      ]
     },
     "execution_count": 15,
     "metadata": {},
     "output_type": "execute_result"
    }
   ],
   "execution_count": 15
  },
  {
   "cell_type": "markdown",
   "metadata": {
    "id": "n7i6JgxEkwwe"
   },
   "source": [
    "###6 – Show the square roots of the values from the NDArray created in exercise 5."
   ]
  },
  {
   "metadata": {
    "ExecuteTime": {
     "end_time": "2025-10-04T19:40:00.591404Z",
     "start_time": "2025-10-04T19:40:00.588838Z"
    }
   },
   "cell_type": "code",
   "source": [
    "arr = np.array(np.arange(1,101,3))\n",
    "arr_sqrt = np.sqrt(arr)\n",
    "print(f\"--- arr (Original) ---\\n{arr}\\n\")\n",
    "print(f\"--- arr_sqrt (arr_sqrt) ---\\n{arr_sqrt}\\n\")"
   ],
   "outputs": [
    {
     "name": "stdout",
     "output_type": "stream",
     "text": [
      "--- arr (Original) ---\n",
      "[  1   4   7  10  13  16  19  22  25  28  31  34  37  40  43  46  49  52\n",
      "  55  58  61  64  67  70  73  76  79  82  85  88  91  94  97 100]\n",
      "\n",
      "--- arr_sqrt (arr_sqrt) ---\n",
      "[ 1.          2.          2.64575131  3.16227766  3.60555128  4.\n",
      "  4.35889894  4.69041576  5.          5.29150262  5.56776436  5.83095189\n",
      "  6.08276253  6.32455532  6.55743852  6.78232998  7.          7.21110255\n",
      "  7.41619849  7.61577311  7.81024968  8.          8.18535277  8.36660027\n",
      "  8.54400375  8.71779789  8.88819442  9.05538514  9.21954446  9.38083152\n",
      "  9.53939201  9.69535971  9.8488578  10.        ]\n",
      "\n"
     ]
    }
   ],
   "execution_count": 23
  },
  {
   "cell_type": "markdown",
   "metadata": {
    "id": "Vn0fSti8lwtD"
   },
   "source": [
    "###7 – Change the tenth position of the NDArray created in exercise 5 to double its value."
   ]
  },
  {
   "metadata": {
    "ExecuteTime": {
     "end_time": "2025-10-04T19:40:53.369508Z",
     "start_time": "2025-10-04T19:40:53.366729Z"
    }
   },
   "cell_type": "code",
   "source": [
    "arr = np.array(np.arange(1,101,3))\n",
    "print(f\"--- arr (Original) ---\\n{arr}\\n\")\n",
    "arr[10] = arr[10] * 2\n",
    "print(f\"--- arr (arr[10] * 2) ---\\n{arr}\\n\")"
   ],
   "outputs": [
    {
     "name": "stdout",
     "output_type": "stream",
     "text": [
      "--- arr (Original) ---\n",
      "[  1   4   7  10  13  16  19  22  25  28  31  34  37  40  43  46  49  52\n",
      "  55  58  61  64  67  70  73  76  79  82  85  88  91  94  97 100]\n",
      "\n",
      "--- arr (arr[10] * 2) ---\n",
      "[  1   4   7  10  13  16  19  22  25  28  62  34  37  40  43  46  49  52\n",
      "  55  58  61  64  67  70  73  76  79  82  85  88  91  94  97 100]\n",
      "\n"
     ]
    }
   ],
   "execution_count": 25
  },
  {
   "cell_type": "markdown",
   "metadata": {
    "id": "QmK0DaAymcvL"
   },
   "source": [
    "###8 – Execute the command to create a DataFrame with the data available in the notebook."
   ]
  },
  {
   "cell_type": "code",
   "metadata": {
    "id": "fgkSoH2sVKSb",
    "executionInfo": {
     "status": "ok",
     "timestamp": 1632064328743,
     "user_tz": 180,
     "elapsed": 3,
     "user": {
      "displayName": "Jose Eduardo Santarem Segundo",
      "photoUrl": "https://lh3.googleusercontent.com/a-/AOh14GjLWfnjBdxVqYk-cgCgmPPwQImjjL3LNJ8YGfE=s64",
      "userId": "13621550804954747560"
     }
    },
    "ExecuteTime": {
     "end_time": "2025-10-04T19:41:14.486785Z",
     "start_time": "2025-10-04T19:41:14.484422Z"
    }
   },
   "source": [
    "dados={'Empresa':['Microsoft', 'Google','Univesp','NVData Analytics','Power Bi Experience','USP'], 'Qtde Func':[1000, 1500,500, 100,100,499], 'Site':['https://www.microsoft.com/pt-br','https://www.google.com/','https://univesp.br/','https://www.nvdata.com.br/','https://powerbiexperience.com/pt/','https://www.usp.br/'],'Instagram':['@microsoft','@google','@univespoficial','@nv_data','@leokarpa','@usp.oficial'],'Criação':[1975,1998,2012,2019,2016,1934], 'País':['EUA','EUA','Brasil','Brasil','Brasil','Brasil']}"
   ],
   "outputs": [],
   "execution_count": 26
  },
  {
   "cell_type": "markdown",
   "metadata": {
    "id": "l0pydfDTnX-q"
   },
   "source": [
    "###9 – Execute a command that can identify the average number of employees that the listed companies have. Also report the sum of employees that the companies have.\n"
   ]
  },
  {
   "metadata": {
    "ExecuteTime": {
     "end_time": "2025-10-04T19:48:09.607101Z",
     "start_time": "2025-10-04T19:48:09.601914Z"
    }
   },
   "cell_type": "code",
   "source": [
    "df=pd.DataFrame(dados)\n",
    "print(f\"--- Average number of employees ---\\n{df['Qtde Func'].mean()}\\n\")\n",
    "print(f\"--- Total sum of employees ---\\n{df['Qtde Func'].sum()}\\n\")\n",
    "df"
   ],
   "outputs": [
    {
     "name": "stdout",
     "output_type": "stream",
     "text": [
      "--- Average number of employees ---\n",
      "616.5\n",
      "\n",
      "--- Total sum of employees ---\n",
      "3699\n",
      "\n"
     ]
    },
    {
     "data": {
      "text/plain": [
       "               Empresa  Qtde Func                               Site  \\\n",
       "0            Microsoft       1000    https://www.microsoft.com/pt-br   \n",
       "1               Google       1500            https://www.google.com/   \n",
       "2              Univesp        500                https://univesp.br/   \n",
       "3     NVData Analytics        100         https://www.nvdata.com.br/   \n",
       "4  Power Bi Experience        100  https://powerbiexperience.com/pt/   \n",
       "5                  USP        499                https://www.usp.br/   \n",
       "\n",
       "         Instagram  Criação    País  \n",
       "0       @microsoft     1975     EUA  \n",
       "1          @google     1998     EUA  \n",
       "2  @univespoficial     2012  Brasil  \n",
       "3         @nv_data     2019  Brasil  \n",
       "4        @leokarpa     2016  Brasil  \n",
       "5     @usp.oficial     1934  Brasil  "
      ],
      "text/html": [
       "<div>\n",
       "<style scoped>\n",
       "    .dataframe tbody tr th:only-of-type {\n",
       "        vertical-align: middle;\n",
       "    }\n",
       "\n",
       "    .dataframe tbody tr th {\n",
       "        vertical-align: top;\n",
       "    }\n",
       "\n",
       "    .dataframe thead th {\n",
       "        text-align: right;\n",
       "    }\n",
       "</style>\n",
       "<table border=\"1\" class=\"dataframe\">\n",
       "  <thead>\n",
       "    <tr style=\"text-align: right;\">\n",
       "      <th></th>\n",
       "      <th>Empresa</th>\n",
       "      <th>Qtde Func</th>\n",
       "      <th>Site</th>\n",
       "      <th>Instagram</th>\n",
       "      <th>Criação</th>\n",
       "      <th>País</th>\n",
       "    </tr>\n",
       "  </thead>\n",
       "  <tbody>\n",
       "    <tr>\n",
       "      <th>0</th>\n",
       "      <td>Microsoft</td>\n",
       "      <td>1000</td>\n",
       "      <td>https://www.microsoft.com/pt-br</td>\n",
       "      <td>@microsoft</td>\n",
       "      <td>1975</td>\n",
       "      <td>EUA</td>\n",
       "    </tr>\n",
       "    <tr>\n",
       "      <th>1</th>\n",
       "      <td>Google</td>\n",
       "      <td>1500</td>\n",
       "      <td>https://www.google.com/</td>\n",
       "      <td>@google</td>\n",
       "      <td>1998</td>\n",
       "      <td>EUA</td>\n",
       "    </tr>\n",
       "    <tr>\n",
       "      <th>2</th>\n",
       "      <td>Univesp</td>\n",
       "      <td>500</td>\n",
       "      <td>https://univesp.br/</td>\n",
       "      <td>@univespoficial</td>\n",
       "      <td>2012</td>\n",
       "      <td>Brasil</td>\n",
       "    </tr>\n",
       "    <tr>\n",
       "      <th>3</th>\n",
       "      <td>NVData Analytics</td>\n",
       "      <td>100</td>\n",
       "      <td>https://www.nvdata.com.br/</td>\n",
       "      <td>@nv_data</td>\n",
       "      <td>2019</td>\n",
       "      <td>Brasil</td>\n",
       "    </tr>\n",
       "    <tr>\n",
       "      <th>4</th>\n",
       "      <td>Power Bi Experience</td>\n",
       "      <td>100</td>\n",
       "      <td>https://powerbiexperience.com/pt/</td>\n",
       "      <td>@leokarpa</td>\n",
       "      <td>2016</td>\n",
       "      <td>Brasil</td>\n",
       "    </tr>\n",
       "    <tr>\n",
       "      <th>5</th>\n",
       "      <td>USP</td>\n",
       "      <td>499</td>\n",
       "      <td>https://www.usp.br/</td>\n",
       "      <td>@usp.oficial</td>\n",
       "      <td>1934</td>\n",
       "      <td>Brasil</td>\n",
       "    </tr>\n",
       "  </tbody>\n",
       "</table>\n",
       "</div>"
      ]
     },
     "execution_count": 36,
     "metadata": {},
     "output_type": "execute_result"
    }
   ],
   "execution_count": 36
  },
  {
   "cell_type": "markdown",
   "metadata": {
    "id": "lGCMCItHoUjo"
   },
   "source": [
    "###10 – Show the first 3 rows of the dataframe."
   ]
  },
  {
   "metadata": {
    "ExecuteTime": {
     "end_time": "2025-10-04T19:48:52.354660Z",
     "start_time": "2025-10-04T19:48:52.350695Z"
    }
   },
   "cell_type": "code",
   "source": "df[:3]",
   "outputs": [
    {
     "data": {
      "text/plain": [
       "     Empresa  Qtde Func                             Site        Instagram  \\\n",
       "0  Microsoft       1000  https://www.microsoft.com/pt-br       @microsoft   \n",
       "1     Google       1500          https://www.google.com/          @google   \n",
       "2    Univesp        500              https://univesp.br/  @univespoficial   \n",
       "\n",
       "   Criação    País  \n",
       "0     1975     EUA  \n",
       "1     1998     EUA  \n",
       "2     2012  Brasil  "
      ],
      "text/html": [
       "<div>\n",
       "<style scoped>\n",
       "    .dataframe tbody tr th:only-of-type {\n",
       "        vertical-align: middle;\n",
       "    }\n",
       "\n",
       "    .dataframe tbody tr th {\n",
       "        vertical-align: top;\n",
       "    }\n",
       "\n",
       "    .dataframe thead th {\n",
       "        text-align: right;\n",
       "    }\n",
       "</style>\n",
       "<table border=\"1\" class=\"dataframe\">\n",
       "  <thead>\n",
       "    <tr style=\"text-align: right;\">\n",
       "      <th></th>\n",
       "      <th>Empresa</th>\n",
       "      <th>Qtde Func</th>\n",
       "      <th>Site</th>\n",
       "      <th>Instagram</th>\n",
       "      <th>Criação</th>\n",
       "      <th>País</th>\n",
       "    </tr>\n",
       "  </thead>\n",
       "  <tbody>\n",
       "    <tr>\n",
       "      <th>0</th>\n",
       "      <td>Microsoft</td>\n",
       "      <td>1000</td>\n",
       "      <td>https://www.microsoft.com/pt-br</td>\n",
       "      <td>@microsoft</td>\n",
       "      <td>1975</td>\n",
       "      <td>EUA</td>\n",
       "    </tr>\n",
       "    <tr>\n",
       "      <th>1</th>\n",
       "      <td>Google</td>\n",
       "      <td>1500</td>\n",
       "      <td>https://www.google.com/</td>\n",
       "      <td>@google</td>\n",
       "      <td>1998</td>\n",
       "      <td>EUA</td>\n",
       "    </tr>\n",
       "    <tr>\n",
       "      <th>2</th>\n",
       "      <td>Univesp</td>\n",
       "      <td>500</td>\n",
       "      <td>https://univesp.br/</td>\n",
       "      <td>@univespoficial</td>\n",
       "      <td>2012</td>\n",
       "      <td>Brasil</td>\n",
       "    </tr>\n",
       "  </tbody>\n",
       "</table>\n",
       "</div>"
      ]
     },
     "execution_count": 37,
     "metadata": {},
     "output_type": "execute_result"
    }
   ],
   "execution_count": 37
  },
  {
   "cell_type": "markdown",
   "metadata": {
    "id": "sknVvBi9oY9k"
   },
   "source": [
    "###11 – Show the last 3 rows of the dataframe."
   ]
  },
  {
   "metadata": {
    "ExecuteTime": {
     "end_time": "2025-10-04T19:49:21.963222Z",
     "start_time": "2025-10-04T19:49:21.959086Z"
    }
   },
   "cell_type": "code",
   "source": "df.tail(3)",
   "outputs": [
    {
     "data": {
      "text/plain": [
       "               Empresa  Qtde Func                               Site  \\\n",
       "3     NVData Analytics        100         https://www.nvdata.com.br/   \n",
       "4  Power Bi Experience        100  https://powerbiexperience.com/pt/   \n",
       "5                  USP        499                https://www.usp.br/   \n",
       "\n",
       "      Instagram  Criação    País  \n",
       "3      @nv_data     2019  Brasil  \n",
       "4     @leokarpa     2016  Brasil  \n",
       "5  @usp.oficial     1934  Brasil  "
      ],
      "text/html": [
       "<div>\n",
       "<style scoped>\n",
       "    .dataframe tbody tr th:only-of-type {\n",
       "        vertical-align: middle;\n",
       "    }\n",
       "\n",
       "    .dataframe tbody tr th {\n",
       "        vertical-align: top;\n",
       "    }\n",
       "\n",
       "    .dataframe thead th {\n",
       "        text-align: right;\n",
       "    }\n",
       "</style>\n",
       "<table border=\"1\" class=\"dataframe\">\n",
       "  <thead>\n",
       "    <tr style=\"text-align: right;\">\n",
       "      <th></th>\n",
       "      <th>Empresa</th>\n",
       "      <th>Qtde Func</th>\n",
       "      <th>Site</th>\n",
       "      <th>Instagram</th>\n",
       "      <th>Criação</th>\n",
       "      <th>País</th>\n",
       "    </tr>\n",
       "  </thead>\n",
       "  <tbody>\n",
       "    <tr>\n",
       "      <th>3</th>\n",
       "      <td>NVData Analytics</td>\n",
       "      <td>100</td>\n",
       "      <td>https://www.nvdata.com.br/</td>\n",
       "      <td>@nv_data</td>\n",
       "      <td>2019</td>\n",
       "      <td>Brasil</td>\n",
       "    </tr>\n",
       "    <tr>\n",
       "      <th>4</th>\n",
       "      <td>Power Bi Experience</td>\n",
       "      <td>100</td>\n",
       "      <td>https://powerbiexperience.com/pt/</td>\n",
       "      <td>@leokarpa</td>\n",
       "      <td>2016</td>\n",
       "      <td>Brasil</td>\n",
       "    </tr>\n",
       "    <tr>\n",
       "      <th>5</th>\n",
       "      <td>USP</td>\n",
       "      <td>499</td>\n",
       "      <td>https://www.usp.br/</td>\n",
       "      <td>@usp.oficial</td>\n",
       "      <td>1934</td>\n",
       "      <td>Brasil</td>\n",
       "    </tr>\n",
       "  </tbody>\n",
       "</table>\n",
       "</div>"
      ]
     },
     "execution_count": 38,
     "metadata": {},
     "output_type": "execute_result"
    }
   ],
   "execution_count": 38
  },
  {
   "cell_type": "markdown",
   "metadata": {
    "id": "FyKZVn1uobKj"
   },
   "source": [
    "###12 – List only the rows where companies were created in the last 10 years. Report the number of records."
   ]
  },
  {
   "metadata": {
    "ExecuteTime": {
     "end_time": "2025-10-04T19:50:11.661154Z",
     "start_time": "2025-10-04T19:50:11.656901Z"
    }
   },
   "cell_type": "code",
   "source": "df[df['Criação']>2015]",
   "outputs": [
    {
     "data": {
      "text/plain": [
       "               Empresa  Qtde Func                               Site  \\\n",
       "3     NVData Analytics        100         https://www.nvdata.com.br/   \n",
       "4  Power Bi Experience        100  https://powerbiexperience.com/pt/   \n",
       "\n",
       "   Instagram  Criação    País  \n",
       "3   @nv_data     2019  Brasil  \n",
       "4  @leokarpa     2016  Brasil  "
      ],
      "text/html": [
       "<div>\n",
       "<style scoped>\n",
       "    .dataframe tbody tr th:only-of-type {\n",
       "        vertical-align: middle;\n",
       "    }\n",
       "\n",
       "    .dataframe tbody tr th {\n",
       "        vertical-align: top;\n",
       "    }\n",
       "\n",
       "    .dataframe thead th {\n",
       "        text-align: right;\n",
       "    }\n",
       "</style>\n",
       "<table border=\"1\" class=\"dataframe\">\n",
       "  <thead>\n",
       "    <tr style=\"text-align: right;\">\n",
       "      <th></th>\n",
       "      <th>Empresa</th>\n",
       "      <th>Qtde Func</th>\n",
       "      <th>Site</th>\n",
       "      <th>Instagram</th>\n",
       "      <th>Criação</th>\n",
       "      <th>País</th>\n",
       "    </tr>\n",
       "  </thead>\n",
       "  <tbody>\n",
       "    <tr>\n",
       "      <th>3</th>\n",
       "      <td>NVData Analytics</td>\n",
       "      <td>100</td>\n",
       "      <td>https://www.nvdata.com.br/</td>\n",
       "      <td>@nv_data</td>\n",
       "      <td>2019</td>\n",
       "      <td>Brasil</td>\n",
       "    </tr>\n",
       "    <tr>\n",
       "      <th>4</th>\n",
       "      <td>Power Bi Experience</td>\n",
       "      <td>100</td>\n",
       "      <td>https://powerbiexperience.com/pt/</td>\n",
       "      <td>@leokarpa</td>\n",
       "      <td>2016</td>\n",
       "      <td>Brasil</td>\n",
       "    </tr>\n",
       "  </tbody>\n",
       "</table>\n",
       "</div>"
      ]
     },
     "execution_count": 39,
     "metadata": {},
     "output_type": "execute_result"
    }
   ],
   "execution_count": 39
  },
  {
   "cell_type": "markdown",
   "metadata": {
    "id": "noPYQPpXohZ8"
   },
   "source": [
    "###13 – Let's imagine that in all companies there is 1 manager for every 23 employees. Create a column that shows the number of managers each company would have and then report how many managers we would have in total. (values don't need to be whole numbers, it's just an estimate).\n"
   ]
  },
  {
   "cell_type": "code",
   "metadata": {
    "id": "qMVATsTWofL9",
    "ExecuteTime": {
     "end_time": "2025-10-04T19:54:04.548999Z",
     "start_time": "2025-10-04T19:54:04.542059Z"
    }
   },
   "source": [
    "df['Managers'] = df['Qtde Func'] / 23\n",
    "df['Managers'] = df['Managers'].astype(int)\n",
    "df"
   ],
   "outputs": [
    {
     "data": {
      "text/plain": [
       "               Empresa  Qtde Func                               Site  \\\n",
       "0            Microsoft       1000    https://www.microsoft.com/pt-br   \n",
       "1               Google       1500            https://www.google.com/   \n",
       "2              Univesp        500                https://univesp.br/   \n",
       "3     NVData Analytics        100         https://www.nvdata.com.br/   \n",
       "4  Power Bi Experience        100  https://powerbiexperience.com/pt/   \n",
       "5                  USP        499                https://www.usp.br/   \n",
       "\n",
       "         Instagram  Criação    País  Managers  \n",
       "0       @microsoft     1975     EUA        43  \n",
       "1          @google     1998     EUA        65  \n",
       "2  @univespoficial     2012  Brasil        21  \n",
       "3         @nv_data     2019  Brasil         4  \n",
       "4        @leokarpa     2016  Brasil         4  \n",
       "5     @usp.oficial     1934  Brasil        21  "
      ],
      "text/html": [
       "<div>\n",
       "<style scoped>\n",
       "    .dataframe tbody tr th:only-of-type {\n",
       "        vertical-align: middle;\n",
       "    }\n",
       "\n",
       "    .dataframe tbody tr th {\n",
       "        vertical-align: top;\n",
       "    }\n",
       "\n",
       "    .dataframe thead th {\n",
       "        text-align: right;\n",
       "    }\n",
       "</style>\n",
       "<table border=\"1\" class=\"dataframe\">\n",
       "  <thead>\n",
       "    <tr style=\"text-align: right;\">\n",
       "      <th></th>\n",
       "      <th>Empresa</th>\n",
       "      <th>Qtde Func</th>\n",
       "      <th>Site</th>\n",
       "      <th>Instagram</th>\n",
       "      <th>Criação</th>\n",
       "      <th>País</th>\n",
       "      <th>Managers</th>\n",
       "    </tr>\n",
       "  </thead>\n",
       "  <tbody>\n",
       "    <tr>\n",
       "      <th>0</th>\n",
       "      <td>Microsoft</td>\n",
       "      <td>1000</td>\n",
       "      <td>https://www.microsoft.com/pt-br</td>\n",
       "      <td>@microsoft</td>\n",
       "      <td>1975</td>\n",
       "      <td>EUA</td>\n",
       "      <td>43</td>\n",
       "    </tr>\n",
       "    <tr>\n",
       "      <th>1</th>\n",
       "      <td>Google</td>\n",
       "      <td>1500</td>\n",
       "      <td>https://www.google.com/</td>\n",
       "      <td>@google</td>\n",
       "      <td>1998</td>\n",
       "      <td>EUA</td>\n",
       "      <td>65</td>\n",
       "    </tr>\n",
       "    <tr>\n",
       "      <th>2</th>\n",
       "      <td>Univesp</td>\n",
       "      <td>500</td>\n",
       "      <td>https://univesp.br/</td>\n",
       "      <td>@univespoficial</td>\n",
       "      <td>2012</td>\n",
       "      <td>Brasil</td>\n",
       "      <td>21</td>\n",
       "    </tr>\n",
       "    <tr>\n",
       "      <th>3</th>\n",
       "      <td>NVData Analytics</td>\n",
       "      <td>100</td>\n",
       "      <td>https://www.nvdata.com.br/</td>\n",
       "      <td>@nv_data</td>\n",
       "      <td>2019</td>\n",
       "      <td>Brasil</td>\n",
       "      <td>4</td>\n",
       "    </tr>\n",
       "    <tr>\n",
       "      <th>4</th>\n",
       "      <td>Power Bi Experience</td>\n",
       "      <td>100</td>\n",
       "      <td>https://powerbiexperience.com/pt/</td>\n",
       "      <td>@leokarpa</td>\n",
       "      <td>2016</td>\n",
       "      <td>Brasil</td>\n",
       "      <td>4</td>\n",
       "    </tr>\n",
       "    <tr>\n",
       "      <th>5</th>\n",
       "      <td>USP</td>\n",
       "      <td>499</td>\n",
       "      <td>https://www.usp.br/</td>\n",
       "      <td>@usp.oficial</td>\n",
       "      <td>1934</td>\n",
       "      <td>Brasil</td>\n",
       "      <td>21</td>\n",
       "    </tr>\n",
       "  </tbody>\n",
       "</table>\n",
       "</div>"
      ]
     },
     "execution_count": 53,
     "metadata": {},
     "output_type": "execute_result"
    }
   ],
   "execution_count": 53
  }
 ]
}
