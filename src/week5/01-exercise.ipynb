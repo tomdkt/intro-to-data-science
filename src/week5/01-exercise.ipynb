{
 "cells": [
  {
   "metadata": {},
   "cell_type": "markdown",
   "source": "### List 3 algorithms from the Scikit-Learn library that can be used for both regression and classification.",
   "id": "b69388c04e4e9c7b"
  },
  {
   "metadata": {},
   "cell_type": "markdown",
   "source": "### Import the data from a CSV file containing reviews of an iPhone model, available on Kaggle (https://www.kaggle.com/kmldas/apple-iphone-se-reviews-ratings).",
   "id": "ae54fd7bae961f22"
  },
  {
   "metadata": {},
   "cell_type": "markdown",
   "source": "### How many rows does the file have?",
   "id": "374cf485ed172c8"
  },
  {
   "metadata": {},
   "cell_type": "markdown",
   "source": "### What is the average of the ratings given?",
   "id": "2f59b8c7b38725c4"
  },
  {
   "metadata": {},
   "cell_type": "markdown",
   "source": "### Which rating was given the most?",
   "id": "1ae0997e105bb768"
  },
  {
   "metadata": {},
   "cell_type": "markdown",
   "source": "### How many times was this rating given?",
   "id": "e8361e3096b3bacc"
  },
  {
   "metadata": {},
   "cell_type": "markdown",
   "source": "### What percentage of the total ratings does this most frequent rating represent?",
   "id": "de88347669620aed"
  },
  {
   "metadata": {},
   "cell_type": "markdown",
   "source": "###  Which rating was given the least?",
   "id": "b37d81da7681876b"
  },
  {
   "metadata": {},
   "cell_type": "markdown",
   "source": "### What percentage of the total ratings does this least frequent rating represent?",
   "id": "b6aa1c0463f79f2d"
  },
  {
   "metadata": {},
   "cell_type": "markdown",
   "source": "### One of the comments is “Worth every penny.” Replace this English text in the corresponding rows with the Portuguese translation: “Vale cada centavo.”",
   "id": "a21b2ad2e3c805cd"
  },
  {
   "metadata": {},
   "cell_type": "markdown",
   "source": "### Delete all rows where the comment is “SUPERB IPHONE.”",
   "id": "96174b799fa4436a"
  }
 ],
 "metadata": {},
 "nbformat": 4,
 "nbformat_minor": 5
}
