{
 "cells": [
  {
   "metadata": {},
   "cell_type": "markdown",
   "source": "### List 3 algorithms from the Scikit-Learn library that can be used for both regression and classification.",
   "id": "b69388c04e4e9c7b"
  },
  {
   "metadata": {},
   "cell_type": "code",
   "outputs": [],
   "execution_count": null,
   "source": "#  Gradient boosting, nearest neighbors, random forest",
   "id": "af474aaee278fe43"
  },
  {
   "metadata": {},
   "cell_type": "markdown",
   "source": "### Import the data from a CSV file containing reviews of an iPhone model, available on Kaggle (https://www.kaggle.com/kmldas/apple-iphone-se-reviews-ratings).",
   "id": "ae54fd7bae961f22"
  },
  {
   "metadata": {},
   "cell_type": "code",
   "outputs": [],
   "execution_count": null,
   "source": [
    "import numpy as np\n",
    "import pandas as pd\n"
   ],
   "id": "d8c1dba6bc2922ad"
  },
  {
   "metadata": {
    "ExecuteTime": {
     "end_time": "2025-10-20T23:04:08.769391Z",
     "start_time": "2025-10-20T23:04:08.684517Z"
    }
   },
   "cell_type": "code",
   "source": [
    "import pandas as pd\n",
    "import os\n",
    "import zipfile\n",
    "from kaggle.api.kaggle_api_extended import KaggleApi\n",
    "\n",
    "dataset_slug = 'kmldas/apple-iphone-se-reviews-ratings'\n",
    "zip_file_name = 'apple-iphone-se-reviews-ratings.zip'\n",
    "csv_file_name = None\n",
    "df = None\n",
    "\n",
    "# Find the first .csv file in the directory\n",
    "local_csvs = [f for f in os.listdir('.') if f.endswith('.csv') and f != 'requirements.txt']\n",
    "\n",
    "if local_csvs:\n",
    "    csv_file_name = local_csvs[0]\n",
    "    print(f\"Reading from local cache: {csv_file_name}\")\n",
    "    df = pd.read_csv(csv_file_name)\n",
    "else:\n",
    "    print(\"No local cache found. Downloading from Kaggle...\")\n",
    "    api = KaggleApi()\n",
    "    api.authenticate()\n",
    "\n",
    "    api.dataset_download_files(dataset_slug, path='.', quiet=False, unzip=False)\n",
    "\n",
    "    with zipfile.ZipFile(zip_file_name, 'r') as zip_ref:\n",
    "        # Find the first .csv file name inside the zip\n",
    "        csv_file_name = [f for f in zip_ref.namelist() if f.endswith('.csv')][0]\n",
    "        print(f\"Found CSV: '{csv_file_name}'. Extracting...\")\n",
    "        zip_ref.extract(csv_file_name)\n",
    "\n",
    "    df = pd.read_csv(csv_file_name)\n",
    "    os.remove(zip_file_name)\n",
    "    print(\"Cache created. Zip file removed.\")\n",
    "\n",
    "print(f\"\\nDataFrame (df) loaded from '{csv_file_name}':\")\n",
    "print(df.head())"
   ],
   "id": "a15785841e392d54",
   "outputs": [
    {
     "name": "stdout",
     "output_type": "stream",
     "text": [
      "Reading from local cache: APPLE_iPhone_SE.csv\n",
      "\n",
      "DataFrame (df) loaded from 'APPLE_iPhone_SE.csv':\n",
      "   Ratings         Comment                                            Reviews\n",
      "0        5          Super!  Great camera for pics and videos Battery life ...\n",
      "1        5       Must buy!  Great device. Let me tell the Pros..1. Superb ...\n",
      "2        5   Great product  Who all loves older size i.e., 4.7 inch type s...\n",
      "3        5  Simply awesome  This iPhone SE is the best phone ever you get....\n",
      "4        5  Classy product  This is my second iphone after iphone 4s. I’ve...\n"
     ]
    }
   ],
   "execution_count": 5
  },
  {
   "metadata": {},
   "cell_type": "markdown",
   "source": "### How many rows does the file have?",
   "id": "374cf485ed172c8"
  },
  {
   "metadata": {
    "ExecuteTime": {
     "end_time": "2025-10-20T23:06:55.746234Z",
     "start_time": "2025-10-20T23:06:55.709469Z"
    }
   },
   "cell_type": "code",
   "source": "print(f\"--- df describe ---\\n{df.describe(include='all')}\\n\")",
   "id": "322731602f7a57ce",
   "outputs": [
    {
     "name": "stdout",
     "output_type": "stream",
     "text": [
      "--- df describe ---\n",
      "            Ratings    Comment        Reviews\n",
      "count   9713.000000       9713           9713\n",
      "unique          NaN        264           8229\n",
      "top             NaN  Wonderful  GoodREAD MORE\n",
      "freq            NaN        544            245\n",
      "mean       4.456399        NaN            NaN\n",
      "std        1.032911        NaN            NaN\n",
      "min        1.000000        NaN            NaN\n",
      "25%        4.000000        NaN            NaN\n",
      "50%        5.000000        NaN            NaN\n",
      "75%        5.000000        NaN            NaN\n",
      "max        5.000000        NaN            NaN\n",
      "\n"
     ]
    }
   ],
   "execution_count": 8
  },
  {
   "metadata": {},
   "cell_type": "markdown",
   "source": "### What is the average of the ratings given?",
   "id": "2f59b8c7b38725c4"
  },
  {
   "metadata": {
    "ExecuteTime": {
     "end_time": "2025-10-20T23:08:17.653006Z",
     "start_time": "2025-10-20T23:08:17.649951Z"
    }
   },
   "cell_type": "code",
   "source": "df.columns",
   "id": "860221cc89b738dd",
   "outputs": [
    {
     "data": {
      "text/plain": [
       "Index(['Ratings', 'Comment', 'Reviews'], dtype='object')"
      ]
     },
     "execution_count": 12,
     "metadata": {},
     "output_type": "execute_result"
    }
   ],
   "execution_count": 12
  },
  {
   "metadata": {
    "ExecuteTime": {
     "end_time": "2025-10-20T23:07:42.421075Z",
     "start_time": "2025-10-20T23:07:42.411754Z"
    }
   },
   "cell_type": "code",
   "source": "df['Ratings'].mean()",
   "id": "446712dcbc75cdf4",
   "outputs": [
    {
     "data": {
      "text/plain": [
       "np.float64(4.4563986409966025)"
      ]
     },
     "execution_count": 11,
     "metadata": {},
     "output_type": "execute_result"
    }
   ],
   "execution_count": 11
  },
  {
   "metadata": {},
   "cell_type": "markdown",
   "source": "### Which rating was given the most?",
   "id": "1ae0997e105bb768"
  },
  {
   "metadata": {},
   "cell_type": "markdown",
   "source": "### How many times was this rating given?",
   "id": "e8361e3096b3bacc"
  },
  {
   "metadata": {},
   "cell_type": "markdown",
   "source": "### What percentage of the total ratings does this most frequent rating represent?",
   "id": "de88347669620aed"
  },
  {
   "metadata": {},
   "cell_type": "markdown",
   "source": "###  Which rating was given the least?",
   "id": "b37d81da7681876b"
  },
  {
   "metadata": {},
   "cell_type": "markdown",
   "source": "### What percentage of the total ratings does this least frequent rating represent?",
   "id": "b6aa1c0463f79f2d"
  },
  {
   "metadata": {},
   "cell_type": "markdown",
   "source": "### One of the comments is “Worth every penny.” Replace this English text in the corresponding rows with the Portuguese translation: “Vale cada centavo.”",
   "id": "a21b2ad2e3c805cd"
  },
  {
   "metadata": {},
   "cell_type": "markdown",
   "source": "### Delete all rows where the comment is “SUPERB IPHONE.”",
   "id": "96174b799fa4436a"
  }
 ],
 "metadata": {
  "kernelspec": {
   "name": "python3",
   "language": "python",
   "display_name": "Python 3 (ipykernel)"
  }
 },
 "nbformat": 4,
 "nbformat_minor": 5
}
